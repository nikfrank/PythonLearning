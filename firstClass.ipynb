{
 "cells": [
  {
   "cell_type": "markdown",
   "metadata": {},
   "source": [
    "# Installation Pycharm"
   ]
  },
  {
   "cell_type": "markdown",
   "metadata": {},
   "source": [
    "download at:\n",
    "https://www.jetbrains.com/pycharm/download/#section=windows"
   ]
  },
  {
   "cell_type": "markdown",
   "metadata": {},
   "source": [
    "Pycharm environment:\n",
    "- create new files\n",
    "- run programs"
   ]
  },
  {
   "cell_type": "markdown",
   "metadata": {},
   "source": [
    "# Exercises"
   ]
  },
  {
   "cell_type": "markdown",
   "metadata": {},
   "source": []
  },
  {
   "cell_type": "markdown",
   "metadata": {},
   "source": [
    "### Errors handling\n"
   ]
  },
  {
   "cell_type": "code",
   "execution_count": 1,
   "metadata": {},
   "outputs": [
    {
     "ename": "NameError",
     "evalue": "name 'Name' is not defined",
     "output_type": "error",
     "traceback": [
      "\u001b[0;31m---------------------------------------------------------------------------\u001b[0m",
      "\u001b[0;31mNameError\u001b[0m                                 Traceback (most recent call last)",
      "\u001b[0;32m<ipython-input-1-def2aa1a6ac6>\u001b[0m in \u001b[0;36m<module>\u001b[0;34m\u001b[0m\n\u001b[1;32m      1\u001b[0m \u001b[0mname\u001b[0m \u001b[0;34m=\u001b[0m \u001b[0;34m'David'\u001b[0m\u001b[0;34m\u001b[0m\u001b[0;34m\u001b[0m\u001b[0m\n\u001b[1;32m      2\u001b[0m \u001b[0;34m\u001b[0m\u001b[0m\n\u001b[0;32m----> 3\u001b[0;31m \u001b[0mprint\u001b[0m\u001b[0;34m(\u001b[0m\u001b[0mName\u001b[0m\u001b[0;34m)\u001b[0m\u001b[0;34m\u001b[0m\u001b[0;34m\u001b[0m\u001b[0m\n\u001b[0m",
      "\u001b[0;31mNameError\u001b[0m: name 'Name' is not defined"
     ]
    }
   ],
   "source": [
    "name = 'David'\n",
    "\n",
    "print(Name)"
   ]
  },
  {
   "cell_type": "code",
   "execution_count": 2,
   "metadata": {},
   "outputs": [
    {
     "ename": "SyntaxError",
     "evalue": "invalid syntax (<ipython-input-2-1f7797238514>, line 3)",
     "output_type": "error",
     "traceback": [
      "\u001b[0;36m  File \u001b[0;32m\"<ipython-input-2-1f7797238514>\"\u001b[0;36m, line \u001b[0;32m3\u001b[0m\n\u001b[0;31m    sentence = 'hi i'm {}'.format(name)\u001b[0m\n\u001b[0m                     ^\u001b[0m\n\u001b[0;31mSyntaxError\u001b[0m\u001b[0;31m:\u001b[0m invalid syntax\n"
     ]
    }
   ],
   "source": [
    "name = 'David'\n",
    "\n",
    "sentence = \"hi i'm {}\".format(name)"
   ]
  },
  {
   "cell_type": "code",
   "execution_count": 25,
   "metadata": {},
   "outputs": [
    {
     "name": "stdout",
     "output_type": "stream",
     "text": [
      "Enter number32\n"
     ]
    },
    {
     "ename": "TypeError",
     "evalue": "unsupported operand type(s) for +: 'int' and 'str'",
     "output_type": "error",
     "traceback": [
      "\u001b[0;31m---------------------------------------------------------------------------\u001b[0m",
      "\u001b[0;31mTypeError\u001b[0m                                 Traceback (most recent call last)",
      "\u001b[0;32m<ipython-input-25-132ce312f5d8>\u001b[0m in \u001b[0;36m<module>\u001b[0;34m\u001b[0m\n\u001b[1;32m      3\u001b[0m \u001b[0mother_number\u001b[0m \u001b[0;34m=\u001b[0m \u001b[0minput\u001b[0m\u001b[0;34m(\u001b[0m\u001b[0;34m'Enter number'\u001b[0m\u001b[0;34m)\u001b[0m\u001b[0;34m\u001b[0m\u001b[0;34m\u001b[0m\u001b[0m\n\u001b[1;32m      4\u001b[0m \u001b[0;34m\u001b[0m\u001b[0m\n\u001b[0;32m----> 5\u001b[0;31m \u001b[0mprint\u001b[0m\u001b[0;34m(\u001b[0m\u001b[0mnumber\u001b[0m \u001b[0;34m+\u001b[0m \u001b[0mother_number\u001b[0m\u001b[0;34m)\u001b[0m\u001b[0;34m\u001b[0m\u001b[0;34m\u001b[0m\u001b[0m\n\u001b[0m",
      "\u001b[0;31mTypeError\u001b[0m: unsupported operand type(s) for +: 'int' and 'str'"
     ]
    }
   ],
   "source": [
    "number = 32\n",
    "\n",
    "other_number = input('Enter number')\n",
    "\n",
    "other_number= int(other_number)\n",
    "\n",
    "print(number + other_number)"
   ]
  },
  {
   "cell_type": "code",
   "execution_count": 30,
   "metadata": {},
   "outputs": [
    {
     "ename": "NameError",
     "evalue": "name 'february' is not defined",
     "output_type": "error",
     "traceback": [
      "\u001b[0;31m---------------------------------------------------------------------------\u001b[0m",
      "\u001b[0;31mNameError\u001b[0m                                 Traceback (most recent call last)",
      "\u001b[0;32m<ipython-input-30-e0a01a23537e>\u001b[0m in \u001b[0;36m<module>\u001b[0;34m\u001b[0m\n\u001b[1;32m      1\u001b[0m \u001b[0mjanuary\u001b[0m \u001b[0;34m=\u001b[0m \u001b[0;36m300\u001b[0m\u001b[0;34m\u001b[0m\u001b[0;34m\u001b[0m\u001b[0m\n\u001b[0;32m----> 2\u001b[0;31m \u001b[0mcombined\u001b[0m \u001b[0;34m=\u001b[0m \u001b[0mjanuary\u001b[0m \u001b[0;34m+\u001b[0m \u001b[0mfebruary\u001b[0m\u001b[0;34m\u001b[0m\u001b[0;34m\u001b[0m\u001b[0m\n\u001b[0m\u001b[1;32m      3\u001b[0m \u001b[0mfebruary\u001b[0m \u001b[0;34m=\u001b[0m \u001b[0;36m200\u001b[0m\u001b[0;34m\u001b[0m\u001b[0;34m\u001b[0m\u001b[0m\n",
      "\u001b[0;31mNameError\u001b[0m: name 'february' is not defined"
     ]
    }
   ],
   "source": [
    "january = 300\n",
    "combined = january + february\n",
    "february = 200"
   ]
  },
  {
   "cell_type": "code",
   "execution_count": 41,
   "metadata": {},
   "outputs": [
    {
     "ename": "IndentationError",
     "evalue": "expected an indented block (<ipython-input-41-d02e70f84b31>, line 2)",
     "output_type": "error",
     "traceback": [
      "\u001b[0;36m  File \u001b[0;32m\"<ipython-input-41-d02e70f84b31>\"\u001b[0;36m, line \u001b[0;32m2\u001b[0m\n\u001b[0;31m    number = int(number)\u001b[0m\n\u001b[0m         ^\u001b[0m\n\u001b[0;31mIndentationError\u001b[0m\u001b[0;31m:\u001b[0m expected an indented block\n"
     ]
    }
   ],
   "source": [
    "if number.isdigit():\n",
    "number = int(number)\n",
    "    print('You have chosen {}'.format(number))"
   ]
  },
  {
   "cell_type": "markdown",
   "metadata": {},
   "source": [
    "### Play with types"
   ]
  },
  {
   "cell_type": "code",
   "execution_count": 26,
   "metadata": {},
   "outputs": [
    {
     "name": "stdout",
     "output_type": "stream",
     "text": [
      "give a number : \n",
      "32\n",
      "32\n"
     ]
    }
   ],
   "source": [
    "str_number = input('give a number : \\n')\n",
    "number = int(str_number)\n",
    "print(number)"
   ]
  },
  {
   "cell_type": "code",
   "execution_count": 9,
   "metadata": {},
   "outputs": [
    {
     "name": "stdout",
     "output_type": "stream",
     "text": [
      "give a number : \n",
      "3\n",
      "<class 'float'>\n"
     ]
    }
   ],
   "source": [
    "str_number = input('give a number : \\n')\n",
    "number = int(str_number)\n",
    "number = number * 6.022*10**23\n",
    "print(type(number))"
   ]
  },
  {
   "cell_type": "code",
   "execution_count": 15,
   "metadata": {},
   "outputs": [
    {
     "name": "stdout",
     "output_type": "stream",
     "text": [
      "the best cities to visit to a healthy trip:\n",
      "    - Chernobyl\n",
      "    - fukushima \n",
      "\n"
     ]
    }
   ],
   "source": [
    "sentence = 'hello'\n",
    "\n",
    "# let's say that you want to write on multiple lines\n",
    "\n",
    "sentence = \"\"\"the best cities to visit to a healthy trip:\n",
    "    - Chernobyl\n",
    "    - fukushima \n",
    "\"\"\"\n",
    "\n",
    "print(sentence)"
   ]
  },
  {
   "cell_type": "code",
   "execution_count": 18,
   "metadata": {},
   "outputs": [
    {
     "name": "stdout",
     "output_type": "stream",
     "text": [
      "hellotheo\n"
     ]
    }
   ],
   "source": [
    "hello = 'hello'\n",
    "\n",
    "name = 'theo'\n",
    "\n",
    "sentence = hello + name\n",
    "\n",
    "print(sentence)"
   ]
  },
  {
   "cell_type": "code",
   "execution_count": 19,
   "metadata": {},
   "outputs": [
    {
     "name": "stdout",
     "output_type": "stream",
     "text": [
      "name ?heatz\n",
      "other nameazeg\n",
      "heatzazeg\n"
     ]
    }
   ],
   "source": [
    "sentence = ''\n",
    "\n",
    "name = input('name ?')\n",
    "\n",
    "sentence = sentence + name\n",
    "\n",
    "name = input('other name')\n",
    "\n",
    "sentence = sentence + name\n",
    "\n",
    "print(sentence)"
   ]
  },
  {
   "cell_type": "markdown",
   "metadata": {},
   "source": [
    "## Boolean"
   ]
  },
  {
   "cell_type": "code",
   "execution_count": 33,
   "metadata": {},
   "outputs": [
    {
     "name": "stdout",
     "output_type": "stream",
     "text": [
      "True\n"
     ]
    }
   ],
   "source": [
    "is_it_true = False \n",
    "is_it_false = True\n",
    "\n",
    "print(is_it_false)"
   ]
  },
  {
   "cell_type": "code",
   "execution_count": 38,
   "metadata": {},
   "outputs": [
    {
     "name": "stdout",
     "output_type": "stream",
     "text": [
      "True\n"
     ]
    }
   ],
   "source": [
    "is_equal = 3==3\n",
    "\n",
    "# ==, >, <, >= ,<=, !=\n",
    "\n",
    "print(is_equal)"
   ]
  },
  {
   "cell_type": "code",
   "execution_count": 39,
   "metadata": {},
   "outputs": [
    {
     "name": "stdout",
     "output_type": "stream",
     "text": [
      "True\n"
     ]
    }
   ],
   "source": [
    "number = 44\n",
    "\n",
    "is_pair = number%2 == 0\n",
    "\n",
    "print(is_pair)\n"
   ]
  },
  {
   "cell_type": "markdown",
   "metadata": {},
   "source": [
    "### Your turn"
   ]
  },
  {
   "cell_type": "markdown",
   "metadata": {},
   "source": [
    "tip"
   ]
  },
  {
   "cell_type": "code",
   "execution_count": 29,
   "metadata": {},
   "outputs": [
    {
     "name": "stdout",
     "output_type": "stream",
     "text": [
      "101\n",
      "1011\n"
     ]
    }
   ],
   "source": [
    "# if I want to add + 1 to a variable the logical idea is that\n",
    "\n",
    "number = 10\n",
    "\n",
    "number = number + 1\n",
    "print(number)\n",
    "# You can do that instead\n",
    "\n",
    "number += 1\n",
    "\n",
    "print(number)\n",
    "\n",
    "# btw you can do the same with strings"
   ]
  },
  {
   "cell_type": "code",
   "execution_count": 22,
   "metadata": {},
   "outputs": [
    {
     "name": "stdout",
     "output_type": "stream",
     "text": [
      "hello david\n",
      "hello david\n"
     ]
    }
   ],
   "source": [
    "#other tip\n",
    "name = 'david'\n",
    "\n",
    "print('hello {}'.format(name))\n",
    "\n",
    "#-->\n",
    "\n",
    "print(f'hello {name}')"
   ]
  },
  {
   "cell_type": "code",
   "execution_count": 12,
   "metadata": {},
   "outputs": [],
   "source": [
    "january_incomes = 200 + 300 + 250 + 345\n",
    "annual_incomes = january_incomes\n",
    "print(\"\"\"annual income up to january: {},\n",
    "        january income: {}\n",
    "\"\"\".format(annual_incomes, january_incomes))\n",
    "\n",
    "\n",
    "february_incomes = 1340\n",
    "annual_incomes = annual_incomes + february_incomes\n",
    "print(\"\"\"annual income up to february: {},\n",
    "        february income: {}\n",
    "\"\"\".format(annual_incomes, february_incomes))\n",
    "march_incomes = 1120\n",
    "april_incomes = 1432\n",
    "may_incomes = 1873\n",
    "june_incomes = 1356\n",
    "july_incomes = 1211"
   ]
  },
  {
   "cell_type": "markdown",
   "metadata": {},
   "source": [
    "- add all incomes gradually and print the annual incomes with the month"
   ]
  },
  {
   "cell_type": "markdown",
   "metadata": {},
   "source": [
    "### Solution"
   ]
  },
  {
   "cell_type": "code",
   "execution_count": 32,
   "metadata": {},
   "outputs": [
    {
     "name": "stdout",
     "output_type": "stream",
     "text": [
      "annual income up to january: 1095,\n",
      "        january income: 1095\n",
      "\n",
      "annual income up to february: 2435 \n",
      " february income: 1340\n",
      "annual income up to march: 3555 \n",
      " march income: 1120\n"
     ]
    }
   ],
   "source": [
    "january_incomes = 200 + 300 + 250 + 345\n",
    "february_incomes = 1340\n",
    "march_incomes = 1120\n",
    "april_incomes = 1432\n",
    "may_incomes = 1873\n",
    "june_incomes = 1356\n",
    "july_incomes = 1211\n",
    "\n",
    "repeat = 'annual income up to'\n",
    "annual_incomes = january_incomes\n",
    "print(\"\"\"annual income up to january: {},\n",
    "        january income: {}\n",
    "\"\"\".format(annual_incomes, january_incomes))\n",
    "\n",
    "\n",
    "annual_incomes += february_incomes\n",
    "print(f'{repeat} february: {annual_incomes} \\n february income: {february_incomes}')\n",
    "\n",
    "\n",
    "annual_incomes += march_incomes\n",
    "print(f\"{repeat} march: {annual_incomes} \\n march income: {march_incomes}\")\n"
   ]
  },
  {
   "cell_type": "markdown",
   "metadata": {},
   "source": [
    "let's say for instance that the user wrote something else than a number"
   ]
  },
  {
   "cell_type": "code",
   "execution_count": null,
   "metadata": {},
   "outputs": [],
   "source": [
    "pizza = False\n",
    "cheese = False\n",
    "\n",
    "if pizza == cheeze:\n",
    "    print('pizza is good with cheese')"
   ]
  },
  {
   "cell_type": "code",
   "execution_count": 47,
   "metadata": {},
   "outputs": [
    {
     "name": "stdout",
     "output_type": "stream",
     "text": [
      "choose a number \n",
      "a\n",
      "Please enter a Number ! \n",
      "2\n"
     ]
    }
   ],
   "source": [
    "number = input('choose a number \\n')\n",
    "is_convertable =  number.isdigit()\n",
    "# does True is equal to False \n",
    "if is_convertable == False:\n",
    "    number = input('Please enter a Number ! \\n')\n",
    "\n",
    "number = int(number)\n",
    "print('you have chosen {}'.)"
   ]
  },
  {
   "cell_type": "code",
   "execution_count": 7,
   "metadata": {},
   "outputs": [
    {
     "name": "stdout",
     "output_type": "stream",
     "text": [
      "pick a numberE\n",
      "False\n"
     ]
    }
   ],
   "source": [
    "number = input('pick a number')\n",
    "hello = (number.isdigit() == True)\n",
    "print(hello)"
   ]
  },
  {
   "cell_type": "code",
   "execution_count": null,
   "metadata": {},
   "outputs": [],
   "source": []
  },
  {
   "cell_type": "code",
   "execution_count": null,
   "metadata": {},
   "outputs": [],
   "source": []
  }
 ],
 "metadata": {
  "kernelspec": {
   "display_name": "Python 3",
   "language": "python",
   "name": "python3"
  },
  "language_info": {
   "codemirror_mode": {
    "name": "ipython",
    "version": 3
   },
   "file_extension": ".py",
   "mimetype": "text/x-python",
   "name": "python",
   "nbconvert_exporter": "python",
   "pygments_lexer": "ipython3",
   "version": "3.7.1"
  }
 },
 "nbformat": 4,
 "nbformat_minor": 2
}
