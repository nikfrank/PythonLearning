{
 "cells": [
  {
   "cell_type": "markdown",
   "metadata": {},
   "source": [
    "## While loop"
   ]
  },
  {
   "cell_type": "raw",
   "metadata": {},
   "source": [
    "The while loop allows us, just like the for loop, to execute some code multiple times. The difference is that we set the condition on which we want the loop to stop."
   ]
  },
  {
   "cell_type": "code",
   "execution_count": 4,
   "metadata": {},
   "outputs": [
    {
     "name": "stdout",
     "output_type": "stream",
     "text": [
      "hello\n",
      "hello\n",
      "hello\n",
      "hello\n",
      "hello\n",
      "hello\n",
      "hello\n",
      "hello\n",
      "hello\n",
      "hello\n"
     ]
    }
   ],
   "source": [
    "count = 0\n",
    "while count < 10:\n",
    "    print('hello')\n",
    "    count += 1"
   ]
  },
  {
   "cell_type": "code",
   "execution_count": 21,
   "metadata": {},
   "outputs": [
    {
     "name": "stdout",
     "output_type": "stream",
     "text": [
      "hello\n",
      "hello\n",
      "hello\n",
      "hello\n",
      "hello\n",
      "hello\n",
      "hello\n",
      "hello\n",
      "hello\n",
      "hello\n",
      "hello\n",
      "hello\n",
      "hello\n",
      "hello\n",
      "hello\n",
      "hello\n",
      "hello\n",
      "17\n",
      "11\n"
     ]
    }
   ],
   "source": [
    "count = 0\n",
    "while True:\n",
    "    print('hello')\n",
    "    count += 1\n",
    "    if count%17 ==0:\n",
    "        print(count)\n",
    "        break\n",
    "    \n",
    "for number in range(15):\n",
    "    result = number*number\n",
    "    if result > 100:\n",
    "        print(number)\n",
    "        break"
   ]
  },
  {
   "cell_type": "code",
   "execution_count": null,
   "metadata": {},
   "outputs": [],
   "source": []
  },
  {
   "cell_type": "code",
   "execution_count": 24,
   "metadata": {},
   "outputs": [
    {
     "name": "stdout",
     "output_type": "stream",
     "text": [
      "1\n",
      "2\n",
      "3\n",
      "4\n",
      "5\n",
      "6\n",
      "7\n",
      "8\n",
      "9\n",
      "10\n",
      "11\n",
      "12\n",
      "13\n",
      "14\n",
      "15\n",
      "16\n",
      "18\n",
      "19\n",
      "20\n",
      "21\n",
      "22\n",
      "23\n",
      "24\n",
      "25\n",
      "26\n",
      "27\n",
      "28\n",
      "29\n",
      "30\n",
      "31\n",
      "32\n",
      "33\n",
      "35\n",
      "36\n",
      "37\n",
      "38\n",
      "39\n",
      "40\n",
      "41\n",
      "42\n",
      "43\n",
      "44\n",
      "45\n",
      "46\n",
      "47\n",
      "48\n",
      "49\n",
      "50\n"
     ]
    }
   ],
   "source": [
    "count = 0\n",
    "while count != 50:\n",
    "    count += 1\n",
    "    if count%17 ==0:\n",
    "        continue\n",
    "    print(count)\n",
    "    "
   ]
  },
  {
   "cell_type": "code",
   "execution_count": 26,
   "metadata": {},
   "outputs": [
    {
     "name": "stdout",
     "output_type": "stream",
     "text": [
      "1\n",
      "3\n",
      "5\n",
      "7\n",
      "9\n"
     ]
    }
   ],
   "source": [
    "for y in range(10):\n",
    "    if y%2==0:\n",
    "        continue\n",
    "    print(y)"
   ]
  },
  {
   "cell_type": "markdown",
   "metadata": {},
   "source": [
    "### Nested loops"
   ]
  },
  {
   "cell_type": "raw",
   "metadata": {},
   "source": [
    "Multiplication Table.\n",
    "\n",
    "let's say that I want to print something like that:\n",
    "\n",
    "1*1 = 1   1*2 = 2   1*3 = 3  (...) 1*10\n",
    "2*1 = 2   2*2 = 4 (...) 2 * 10\n",
    "(...)\n",
    "9*1 = 9 (...) 9 * 10"
   ]
  },
  {
   "cell_type": "code",
   "execution_count": 18,
   "metadata": {},
   "outputs": [
    {
     "name": "stdout",
     "output_type": "stream",
     "text": [
      "range(0, 10)\n"
     ]
    }
   ],
   "source": [
    "numbers = range(10)\n",
    "print(numbers)"
   ]
  },
  {
   "cell_type": "code",
   "execution_count": 16,
   "metadata": {},
   "outputs": [
    {
     "name": "stdout",
     "output_type": "stream",
     "text": [
      "1*1 = 1\n",
      "1*2 = 2\n",
      "2*1 = 2\n",
      "2*2 = 4\n",
      "3*1 = 3\n",
      "3*2 = 6\n",
      "4*1 = 4\n",
      "4*2 = 8\n",
      "5*1 = 5\n",
      "5*2 = 10\n",
      "6*1 = 6\n",
      "6*2 = 12\n",
      "7*1 = 7\n",
      "7*2 = 14\n",
      "8*1 = 8\n",
      "8*2 = 16\n",
      "9*1 = 9\n",
      "9*2 = 18\n",
      "10*1 = 10\n",
      "10*2 = 20\n"
     ]
    }
   ],
   "source": [
    "for table in range(1,11):\n",
    "    for number in range(1,3):\n",
    "        print('{}*{} = {}'.format(table, number, table*number))"
   ]
  },
  {
   "cell_type": "raw",
   "metadata": {},
   "source": [
    "Let's say now that I have two lists of names. I want to create a third list that contains only the names that are in both lists"
   ]
  },
  {
   "cell_type": "code",
   "execution_count": 3,
   "metadata": {},
   "outputs": [
    {
     "name": "stdout",
     "output_type": "stream",
     "text": [
      "['mark', 'andrew']\n"
     ]
    }
   ],
   "source": [
    "names1 = ['david', 'mark', 'andrew', 'ben', 'lea', 'anna']\n",
    "names2 = ['andrew', 'mike', 'harvey', 'chandler', 'ross', 'harry', 'mark']\n",
    "shared_names = []\n",
    "\n",
    "for name in names1:\n",
    "    for NAME in names2:\n",
    "        if name == NAME:\n",
    "            shared_names.append(name)\n",
    "        \n",
    "print(shared_names)"
   ]
  },
  {
   "cell_type": "markdown",
   "metadata": {},
   "source": [
    "### Lists within a list"
   ]
  },
  {
   "cell_type": "code",
   "execution_count": 27,
   "metadata": {},
   "outputs": [
    {
     "name": "stdout",
     "output_type": "stream",
     "text": [
      "a\n",
      "b\n",
      "c\n",
      "d\n",
      "e\n",
      "f\n",
      "g\n",
      "h\n",
      "i\n"
     ]
    }
   ],
   "source": [
    "table = [['a', 'b', 'c'], ['d', 'e', 'f'], ['g', 'h', 'i']]\n",
    "\n",
    "for element in table:\n",
    "    for letter in element:\n",
    "        print(letter)"
   ]
  },
  {
   "cell_type": "code",
   "execution_count": 29,
   "metadata": {},
   "outputs": [
    {
     "name": "stdout",
     "output_type": "stream",
     "text": [
      "Mark\n",
      "M\n",
      "a\n",
      "r\n",
      "k\n",
      "David\n",
      "D\n",
      "a\n",
      "v\n",
      "i\n",
      "d\n"
     ]
    }
   ],
   "source": [
    "table = ['Mark', 'David']\n",
    "j=0\n",
    "i=0\n",
    "\n",
    "while i< len(table):\n",
    "    print(table[i])\n",
    "    while j<len(table[i]):\n",
    "        print(table[i][j])\n",
    "        j += 1\n",
    "    j = 0\n",
    "    i += 1"
   ]
  },
  {
   "cell_type": "markdown",
   "metadata": {},
   "source": [
    "### Exercise "
   ]
  },
  {
   "cell_type": "markdown",
   "metadata": {},
   "source": [
    "ask the user to pick a letter from the board and replace that letter by 'X'. Let's use the while loop"
   ]
  },
  {
   "cell_type": "markdown",
   "metadata": {},
   "source": [
    "## Dictionary "
   ]
  },
  {
   "cell_type": "markdown",
   "metadata": {},
   "source": [
    "A dictionnary is another way of storing data. And it is very useful.\n",
    "it looks like that:"
   ]
  },
  {
   "cell_type": "code",
   "execution_count": null,
   "metadata": {},
   "outputs": [],
   "source": [
    "my_dict = {\n",
    "    'first_name':'Theo',\n",
    "    'last_name': 'Nataf'\n",
    "}"
   ]
  }
 ],
 "metadata": {
  "kernelspec": {
   "display_name": "Python 3",
   "language": "python",
   "name": "python3"
  },
  "language_info": {
   "codemirror_mode": {
    "name": "ipython",
    "version": 3
   },
   "file_extension": ".py",
   "mimetype": "text/x-python",
   "name": "python",
   "nbconvert_exporter": "python",
   "pygments_lexer": "ipython3",
   "version": "3.7.1"
  }
 },
 "nbformat": 4,
 "nbformat_minor": 2
}
