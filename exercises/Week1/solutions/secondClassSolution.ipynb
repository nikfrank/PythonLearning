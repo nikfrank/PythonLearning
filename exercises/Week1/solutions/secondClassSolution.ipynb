{
 "cells": [
  {
   "cell_type": "markdown",
   "metadata": {},
   "source": [
    "### Exercice 1"
   ]
  },
  {
   "cell_type": "code",
   "execution_count": 2,
   "metadata": {},
   "outputs": [
    {
     "name": "stdout",
     "output_type": "stream",
     "text": [
      "number4\n",
      "this number is a multiple of 4\n"
     ]
    }
   ],
   "source": [
    "number = int(input('number'))\n",
    "\n",
    "if number%4 == 0:\n",
    "    print('this number is a multiple of 4')\n",
    "else:\n",
    "    print('this number is not a multiple of 4')"
   ]
  },
  {
   "cell_type": "markdown",
   "metadata": {},
   "source": [
    "### Exercice 2"
   ]
  },
  {
   "cell_type": "code",
   "execution_count": 4,
   "metadata": {},
   "outputs": [
    {
     "name": "stdout",
     "output_type": "stream",
     "text": [
      "what is your birthdate (MM/DD/YYYY)?23/06/1997\n",
      "your age is 22\n"
     ]
    }
   ],
   "source": [
    "birthdate = input('what is your birthdate (MM/DD/YYYY)?')\n",
    "day = int(birthdate[0:2])\n",
    "month = int(birthdate[3:5])\n",
    "year = int(birthdate[6:10])\n",
    "today_day = 9\n",
    "today_month = 7\n",
    "today_year = 2019\n",
    "result = 'your age is {}'\n",
    "\n",
    "age = today_year - year\n",
    "\n",
    "\n",
    "if age <= 0:\n",
    "    # I went a little deeper :p\n",
    "    if age < 0:\n",
    "        result = 'you are not born yet'\n",
    "    else:\n",
    "        if month <= today_month:\n",
    "            if month == today_month:\n",
    "                age = str(today_day-day) + ' days and 0 month'\n",
    "            else:\n",
    "                age = str(today_month-month) + ' month'\n",
    "        else:\n",
    "            result = 'you are not born yet'\n",
    "elif month > today_month:\n",
    "    age -= 1\n",
    "else:\n",
    "    if month == today_month:\n",
    "        if day > today_day:\n",
    "            age -= 1\n",
    "\n",
    "print(result.format(age))\n"
   ]
  },
  {
   "cell_type": "markdown",
   "metadata": {},
   "source": [
    "### Exercice 3"
   ]
  },
  {
   "cell_type": "code",
   "execution_count": 24,
   "metadata": {},
   "outputs": [
    {
     "name": "stdout",
     "output_type": "stream",
     "text": [
      "Your password must contain at least 1 upper case and one number\n",
      "Password ?jqdks\n",
      "Your password is either too long or too short \n",
      " New Password ?jdhdks\n",
      "your password is wrong\n"
     ]
    }
   ],
   "source": [
    "print('Your password must contain at least 1 upper case and one number and 6 char')\n",
    "password = input('Password ?')\n",
    "\n",
    "found_digit = False\n",
    "found_upper = False\n",
    "\n",
    "if len(password) != 6:\n",
    "    password = input('Your password is either too long or too short \\n New Password ?')\n",
    "\n",
    "if password[0].isdigit() == False:\n",
    "    if password[0].upper() == password[0]:\n",
    "        found_upper = True\n",
    "else:\n",
    "    found_digit = True\n",
    "        \n",
    "if password[1].isdigit() == False:\n",
    "    if password[1].upper() == password[1]:\n",
    "        found_upper = True\n",
    "else:\n",
    "    found_digit = True\n",
    "    \n",
    "if password[2].isdigit() == False:\n",
    "    if password[2].upper() == password[2]:\n",
    "        found_upper = True\n",
    "else:\n",
    "    found_digit = True\n",
    "    \n",
    "if password[3].isdigit() == False:\n",
    "    if password[3].upper() == password[3]:\n",
    "        found_upper = True\n",
    "else:\n",
    "    found_digit = True\n",
    "    \n",
    "if password[4].isdigit() == False:\n",
    "    if password[4].upper() == password[4]:\n",
    "        found_upper = True\n",
    "else:\n",
    "    found_digit = True\n",
    "    \n",
    "if password[5].isdigit() == False:\n",
    "    if password[5].upper() == password[5]:\n",
    "        found_upper = True\n",
    "else:\n",
    "    found_digit = True\n",
    "    \n",
    "if found_digit == True and found_upper == True:\n",
    "    checking = input('checking your password')\n",
    "    if checking == password:\n",
    "        print('great password saved')\n",
    "else:\n",
    "    print('your password is not matching the conditions')\n",
    "    \n",
    "    "
   ]
  },
  {
   "cell_type": "markdown",
   "metadata": {},
   "source": [
    "### Exercise 4"
   ]
  },
  {
   "cell_type": "code",
   "execution_count": 8,
   "metadata": {},
   "outputs": [
    {
     "name": "stdout",
     "output_type": "stream",
     "text": [
      "number ?234\n",
      "2, 6, 3, 9, \n"
     ]
    }
   ],
   "source": [
    "number = int(input('number ?'))\n",
    "multiples = ''\n",
    "if number%2 == 0:\n",
    "    multiples += '2, '\n",
    "    if number%3 == 0:\n",
    "        multiples += '6, '\n",
    "    if number%5 == 0:\n",
    "        multiples += '10, '\n",
    "    if number%4 == 0:\n",
    "        multiples += '4, '\n",
    "        if number%8 == 0:\n",
    "            multiples += '8, '\n",
    "if number%3 == 0:\n",
    "    multiples += '3, '\n",
    "    if number%9== 0:\n",
    "        multiples += '9, '\n",
    "\n",
    "if number%5 == 0:\n",
    "    multiples += '5, '\n",
    "    \n",
    "if number%7 == 0:\n",
    "    multiples += '7, '\n",
    "\n",
    "if number%11 == 0:\n",
    "    multiples += '11, '\n",
    "    \n",
    "if multiples == '':\n",
    "    print('this may be a prime number')\n",
    "    \n",
    "print(multiples)"
   ]
  },
  {
   "cell_type": "code",
   "execution_count": null,
   "metadata": {},
   "outputs": [],
   "source": [
    "amount = int(input('how much do you want to change ?'))\n",
    "currency = input('from which currency ?')\n",
    "change_to = input('to which currency ?')\n",
    "\n",
    "if currency == 'nis':\n",
    "    if change_to == 'eur':\n",
    "        print('your amount is worth {} €'.format(amount/4))\n",
    "    if change_to == 'dol':\n",
    "        print('your amount is worth {} $'.format(amount/5))\n",
    "\n",
    "if currency == 'eur':\n",
    "    if change_to == 'nis':\n",
    "        print('your amount is worth {} €'.format(amount*4))"
   ]
  }
 ],
 "metadata": {
  "kernelspec": {
   "display_name": "Python 3",
   "language": "python",
   "name": "python3"
  },
  "language_info": {
   "codemirror_mode": {
    "name": "ipython",
    "version": 3
   },
   "file_extension": ".py",
   "mimetype": "text/x-python",
   "name": "python",
   "nbconvert_exporter": "python",
   "pygments_lexer": "ipython3",
   "version": "3.7.1"
  }
 },
 "nbformat": 4,
 "nbformat_minor": 2
}
