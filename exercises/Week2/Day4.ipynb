{
 "cells": [
  {
   "cell_type": "markdown",
   "metadata": {},
   "source": [
    "## Exercise 1"
   ]
  },
  {
   "cell_type": "markdown",
   "metadata": {},
   "source": [
    "Download the file title.basics at https://datasets.imdbws.com/ "
   ]
  },
  {
   "cell_type": "markdown",
   "metadata": {},
   "source": [
    "1. Try to create a script that convert this file to a json file looking like that:"
   ]
  },
  {
   "cell_type": "code",
   "execution_count": null,
   "metadata": {},
   "outputs": [],
   "source": [
    "{\n",
    "\t\"movies\": [\n",
    "\t\t{\n",
    "\t\t\t\"Title\": \"Dama de noche\",\n",
    "\t\t\t\"Year\": \"1993\",\n",
    "\t\t\t\"Genres\": \"Drama,Mystery,Romance\",\n",
    "\t\t\t\"Minutes\": \"102\"\n",
    "\t\t},\n",
    "\t\t{\n",
    "\t\t\t\"Title\": \"Pesn o geroyakh\",\n",
    "\t\t\t\"Year\": \"1983\",\n",
    "\t\t\t\"Genres\": \"Documentary\",\n",
    "\t\t\t\"Minutes\": \"50\"\n",
    "\t\t},\n",
    "\t\t{\n",
    "\t\t\t\"Title\": \"El hu\\u00e9sped del sevillano\",\n",
    "\t\t\t\"Year\": \"1970\",\n",
    "\t\t\t\"Genres\": \"Comedy\",\n",
    "\t\t\t\"Minutes\": \"86\"\n",
    "\t\t},\n",
    "\t\t{\n",
    "\t\t\t\"Title\": \"Kate & Leopold\",\n",
    "\t\t\t\"Year\": \"2001\",\n",
    "\t\t\t\"Genres\": \"Comedy,Fantasy,Romance\",\n",
    "\t\t\t\"Minutes\": \"118\"\n",
    "\t\t},\n",
    "\t\t{\n",
    "\t\t\t\"Title\": \"30. Januar 1945\",\n",
    "\t\t\t\"Year\": \"1965\",\n",
    "\t\t\t\"Genres\": \"\\\\N\",\n",
    "\t\t\t\"Minutes\": \"146\"\n",
    "\t\t},\n",
    "    ]\n",
    "}"
   ]
  },
  {
   "cell_type": "markdown",
   "metadata": {},
   "source": [
    "2. from the file take the originalTitle column, the startYear, the runtimeMinutes and the genres."
   ]
  },
  {
   "cell_type": "markdown",
   "metadata": {},
   "source": [
    "3. you should take the movie only if:\n",
    "    - the second column ('short') is equal to 'movie'\n",
    "    - the column of start year is different from '\\\\N' and is above 1960"
   ]
  },
  {
   "cell_type": "markdown",
   "metadata": {},
   "source": [
    "To help you achieve this here is some code to show you how to handle this type of file"
   ]
  },
  {
   "cell_type": "code",
   "execution_count": 3,
   "metadata": {},
   "outputs": [],
   "source": [
    "import csv\n",
    "\n",
    "f = open('nameOfTheFile.csv or .tsv', 'r')\n",
    "reader = csv.reader(f, delimiter='\\t')\n",
    "\n",
    "f.close()"
   ]
  },
  {
   "cell_type": "markdown",
   "metadata": {},
   "source": [
    "This code above will allow you to read the lines from a csv file (which is like a excel file).\n",
    "inside the reader variable you have every line of the @file that looks like lists according to the columns."
   ]
  },
  {
   "cell_type": "code",
   "execution_count": null,
   "metadata": {},
   "outputs": [],
   "source": [
    "for row in reader:\n",
    "    print(row)"
   ]
  },
  {
   "cell_type": "markdown",
   "metadata": {},
   "source": [
    "the output of this according to our file would be:"
   ]
  },
  {
   "cell_type": "code",
   "execution_count": null,
   "metadata": {},
   "outputs": [],
   "source": [
    "['tconst', 'titleType', 'primaryTitle', 'originalTitle', 'isAdult', 'startYear', 'endYear', 'runtimeMinutes', 'genres'] # first-line\n",
    "['tt0000001', 'short', 'Carmencita', 'Carmencita', '0', '1894', '\\N', '1', 'Documentary,Short']\n",
    "['tt0000002', 'short', 'Le clown et ses chiens', 'Le clown et ses chiens', '0', '1892', '\\N', '5', 'Animation,Short']\n",
    "(...)"
   ]
  },
  {
   "cell_type": "markdown",
   "metadata": {},
   "source": [
    "so in order to access to the column of titleType I would do something like that : row[1]"
   ]
  },
  {
   "cell_type": "markdown",
   "metadata": {},
   "source": [
    "## Exercise 2"
   ]
  },
  {
   "cell_type": "markdown",
   "metadata": {},
   "source": [
    "1. create a function called compare_words(search, word) that takes two parameters: search_text and word.\n",
    "\n",
    "\n",
    "2. this function is going to compare the two variables.\n",
    "    - check the length of the variable search\n",
    "    - Then compare the search variable to the word variable from the element 0 to the length of the search variable word[0:4] (4 being the length of the search variable)\n",
    "    - if they are equal then the function sould return True if not then it should return False\n",
    "\n",
    "\n",
    "3. create a function called search_by_name(search_text) that is taking one parameter search_text.\n",
    "    - this function will look over every item of the json file from exercise 1\n",
    "    - we need to compare the title of the movie with the search text (use the function compare_words())\n",
    "    - if the result of that previous function is True then you should add the movie to a list\n",
    "    - the function will return a list of all the matching movies\n",
    "    \n",
    "\n",
    "4. Now create a function called search_by_year(year) that takes one parameter year.\n",
    "    - it should do the same thing as search_by_name() but only looking for the exact year that we got from the parameters\n",
    "    - and then return a list of all the movies made that year\n",
    "    \n",
    "\n",
    "5. Create a new function called show_results(movies):\n",
    "    - this function will print in a nice way the list of movies in the parameter movies\n",
    "\n",
    "\n",
    "6. Create a new function called menu().\n",
    "    - it should print a menu to the user asking him what does he want to do: \n",
    "            - search a movie by name \n",
    "            - by year\n",
    "            - quit the menu\n",
    "    - this function should return the choice of the user\n",
    "\n",
    "\n",
    "7. create a function called main():\n",
    "    - in this function we are going to assemble every element that we built earlier:\n",
    "            - until the choice of the user isn't 'quit the menu' ask him what he wants to do\n",
    "            - according to his choice use either the search by year or search by name function\n",
    "            - show the output using show_results()"
   ]
  },
  {
   "cell_type": "code",
   "execution_count": null,
   "metadata": {},
   "outputs": [],
   "source": []
  },
  {
   "cell_type": "code",
   "execution_count": null,
   "metadata": {},
   "outputs": [],
   "source": []
  }
 ],
 "metadata": {
  "kernelspec": {
   "display_name": "Python 3",
   "language": "python",
   "name": "python3"
  },
  "language_info": {
   "codemirror_mode": {
    "name": "ipython",
    "version": 3
   },
   "file_extension": ".py",
   "mimetype": "text/x-python",
   "name": "python",
   "nbconvert_exporter": "python",
   "pygments_lexer": "ipython3",
   "version": "3.7.1"
  }
 },
 "nbformat": 4,
 "nbformat_minor": 2
}
