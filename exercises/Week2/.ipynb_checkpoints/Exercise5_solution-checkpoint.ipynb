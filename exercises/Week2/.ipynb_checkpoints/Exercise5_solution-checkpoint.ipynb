{
 "cells": [
  {
   "cell_type": "markdown",
   "metadata": {},
   "source": [
    "## Exercise 1"
   ]
  },
  {
   "cell_type": "code",
   "execution_count": 1,
   "metadata": {},
   "outputs": [
    {
     "name": "stdout",
     "output_type": "stream",
     "text": [
      "hello mark\n",
      "['victor', 'zevouloun', 'Patrick']\n"
     ]
    }
   ],
   "source": [
    "names = ['mark', 'victor', 'benjamin', 'zevouloun', 'Patrick', 'Abraham']\n",
    "matching_names = []\n",
    "\n",
    "if 'mark' in names:\n",
    "    print('hello mark')\n",
    "\n",
    "for name in names:\n",
    "    if 'p' in name.lower() or 'v' in name.lower():\n",
    "        matching_names.append(name)\n",
    "        \n",
    "print(matching_names)"
   ]
  },
  {
   "cell_type": "markdown",
   "metadata": {},
   "source": [
    "## Exercise 2"
   ]
  },
  {
   "cell_type": "code",
   "execution_count": 6,
   "metadata": {},
   "outputs": [
    {
     "name": "stdout",
     "output_type": "stream",
     "text": [
      "Pick a element: \n",
      "(0):Rock\n",
      "(1):Paper\n",
      "(2):Scissors\n",
      "0\n",
      "Pick a element: \n",
      "(0):Rock\n",
      "(1):Paper\n",
      "(2):Scissors\n",
      "1\n",
      "user2 won the game\n"
     ]
    }
   ],
   "source": [
    "items = ['rock', 'paper', 'scissors']\n",
    "menu = 'Pick a element: \\n(0):Rock\\n(1):Paper\\n(2):Scissors\\n'\n",
    "user1 = int(input(menu))\n",
    "user2 = int(input(menu))\n",
    "users_choice = [user1, user2]\n",
    "user1_wins = [[0,2], [1,0], [2,1]]\n",
    "\n",
    "if users_choice in user1_wins:\n",
    "    print('user1 won the game')\n",
    "elif user1 == user2:\n",
    "    print(\"tie game\")\n",
    "else:\n",
    "    print(\"user2 won the game\")\n",
    "    \n"
   ]
  },
  {
   "cell_type": "markdown",
   "metadata": {},
   "source": [
    "## Exercise 3"
   ]
  },
  {
   "cell_type": "code",
   "execution_count": null,
   "metadata": {},
   "outputs": [
    {
     "name": "stdout",
     "output_type": "stream",
     "text": [
      "username ?theo\n",
      "password ?1\n",
      "username ?theo\n",
      "password ?1\n",
      "logged in\n"
     ]
    }
   ],
   "source": [
    "username = input('username ?')\n",
    "password = input('password ?')\n",
    "\n",
    "while True:\n",
    "    check_username = input('username ?')\n",
    "    check_password = input('password ?')\n",
    "    if check_username == username and check_password == password:\n",
    "        print('logged in')\n",
    "        break"
   ]
  },
  {
   "cell_type": "code",
   "execution_count": null,
   "metadata": {},
   "outputs": [],
   "source": []
  }
 ],
 "metadata": {
  "kernelspec": {
   "display_name": "Python 3",
   "language": "python",
   "name": "python3"
  },
  "language_info": {
   "codemirror_mode": {
    "name": "ipython",
    "version": 3
   },
   "file_extension": ".py",
   "mimetype": "text/x-python",
   "name": "python",
   "nbconvert_exporter": "python",
   "pygments_lexer": "ipython3",
   "version": "3.7.1"
  }
 },
 "nbformat": 4,
 "nbformat_minor": 2
}
