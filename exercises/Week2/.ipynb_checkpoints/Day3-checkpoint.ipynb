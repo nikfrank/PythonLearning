{
 "cells": [
  {
   "cell_type": "markdown",
   "metadata": {},
   "source": [
    "## Exercise 1"
   ]
  },
  {
   "cell_type": "markdown",
   "metadata": {},
   "source": [
    "1. create a JSON file looking like that"
   ]
  },
  {
   "cell_type": "code",
   "execution_count": null,
   "metadata": {},
   "outputs": [],
   "source": [
    "{\"users\":[\n",
    "    {\n",
    "        \"username\": \"David\",\n",
    "        \"password\": \"12345\",\n",
    "        \"email\": \"david@super.com\",\n",
    "        \"message_received\":[],\n",
    "        \"message_sent\": []\n",
    "    },\n",
    "    {\n",
    "        \"username\": \"Mark\",\n",
    "        \"password\": \"23412\",\n",
    "        \"email\": \"mark@super.com\",\n",
    "        \"message_received\":[],\n",
    "        \"message_sent\": []\n",
    "    },\n",
    "    {\n",
    "        \"username\": \"Jacob\",\n",
    "        \"password\": \"23821\",\n",
    "        \"email\": \"jacob@super.com\",\n",
    "        \"message_received\":[],\n",
    "        \"message_sent\": []\n",
    "    },\n",
    "    {\n",
    "        \"username\": \"Joseph\",\n",
    "        \"password\": \"62797\",\n",
    "        \"email\": \"joseph@super.com\",\n",
    "        \"message_received\":[],\n",
    "        \"message_sent\": []\n",
    "    }\n",
    "]\n",
    "}"
   ]
  },
  {
   "cell_type": "markdown",
   "metadata": {},
   "source": [
    "#### Part 1 is the same as exercise 6 of yesterday"
   ]
  },
  {
   "cell_type": "markdown",
   "metadata": {},
   "source": [
    "for question 5 (the bonus question) you should write the new user inside the json file"
   ]
  },
  {
   "cell_type": "markdown",
   "metadata": {},
   "source": [
    "#### For Part 2 you should write every change inside the json file"
   ]
  },
  {
   "cell_type": "markdown",
   "metadata": {},
   "source": [
    "## Exercise 2"
   ]
  },
  {
   "cell_type": "markdown",
   "metadata": {},
   "source": [
    "### Part 1"
   ]
  },
  {
   "cell_type": "markdown",
   "metadata": {},
   "source": [
    "1. We are trying to recreate the rolling of dice.\n",
    "2. Your code should keep throwing 2 dice until they both land on the same number.\n",
    "3. It should keep throwing 2 dice (using your throw_dice function) until they both land on the same number (until we reach doubles). For example: (1, 2), (3, 1), (5,5) → then stop throwing, because doubles were reached.\n",
    "4. We also want to keep track of the number of throws we had to do to get a double."
   ]
  },
  {
   "cell_type": "markdown",
   "metadata": {},
   "source": [
    "### Part 2"
   ]
  },
  {
   "cell_type": "markdown",
   "metadata": {},
   "source": [
    "1. Ask the user how many times does he want to throw dice.\n",
    "2. Create a variable dictionary called keep_track. It should have three keys: number_of_throw, number_of_double, average_double\n",
    "3. When we get to a double we want to keep throwing dice and add +1 to the number_of_doubles in our dictionary.\n",
    "4. At the end calculate the average of double. (number_of_double/number_of_throw)\n",
    "5. Show the results to the user. The output would show something like this:\n",
    "       - Total throws: 8\n",
    "       - Average doubles: 2.67."
   ]
  },
  {
   "cell_type": "markdown",
   "metadata": {},
   "source": [
    "### Part 3"
   ]
  },
  {
   "cell_type": "markdown",
   "metadata": {},
   "source": [
    "1. Save each 'keep_track' dictionary to a JSON file. It should look like that:"
   ]
  },
  {
   "cell_type": "code",
   "execution_count": null,
   "metadata": {},
   "outputs": [],
   "source": [
    "{\n",
    "    'data':[\n",
    "        {\n",
    "            'number_of_throw':12,\n",
    "            'number_of_double': 2,\n",
    "            'average_double':0.16666\n",
    "        },\n",
    "        {\n",
    "            'number_of_throw':12,\n",
    "            'number_of_double': 2,\n",
    "            'average_double':0.16666\n",
    "        },\n",
    "    ]\n",
    "}"
   ]
  },
  {
   "cell_type": "markdown",
   "metadata": {},
   "source": [
    "### Part 4"
   ]
  },
  {
   "cell_type": "markdown",
   "metadata": {},
   "source": [
    "1. Create a new python file\n",
    "2. it should read the data from the previous JSON file\n",
    "3. Calculate the average of double for all the throws (total of double/total of throws)"
   ]
  },
  {
   "cell_type": "code",
   "execution_count": null,
   "metadata": {},
   "outputs": [],
   "source": []
  },
  {
   "cell_type": "code",
   "execution_count": null,
   "metadata": {},
   "outputs": [],
   "source": []
  }
 ],
 "metadata": {
  "kernelspec": {
   "display_name": "Python 3",
   "language": "python",
   "name": "python3"
  },
  "language_info": {
   "codemirror_mode": {
    "name": "ipython",
    "version": 3
   },
   "file_extension": ".py",
   "mimetype": "text/x-python",
   "name": "python",
   "nbconvert_exporter": "python",
   "pygments_lexer": "ipython3",
   "version": "3.7.1"
  }
 },
 "nbformat": 4,
 "nbformat_minor": 2
}
