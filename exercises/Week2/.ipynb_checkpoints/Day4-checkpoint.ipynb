{
 "cells": [
  {
   "cell_type": "markdown",
   "metadata": {},
   "source": [
    "## Exercise 1"
   ]
  },
  {
   "cell_type": "markdown",
   "metadata": {},
   "source": [
    "Download the file title.basics at https://datasets.imdbws.com/ "
   ]
  },
  {
   "cell_type": "markdown",
   "metadata": {},
   "source": [
    "1. Try to create a script that convert this file to a json file looking like that:"
   ]
  },
  {
   "cell_type": "code",
   "execution_count": null,
   "metadata": {},
   "outputs": [],
   "source": [
    "{\n",
    "\t\"movies\": [\n",
    "\t\t{\n",
    "\t\t\t\"Title\": \"Dama de noche\",\n",
    "\t\t\t\"Year\": \"1993\",\n",
    "\t\t\t\"Genres\": \"Drama,Mystery,Romance\",\n",
    "\t\t\t\"Minutes\": \"102\"\n",
    "\t\t},\n",
    "\t\t{\n",
    "\t\t\t\"Title\": \"Pesn o geroyakh\",\n",
    "\t\t\t\"Year\": \"1983\",\n",
    "\t\t\t\"Genres\": \"Documentary\",\n",
    "\t\t\t\"Minutes\": \"50\"\n",
    "\t\t},\n",
    "\t\t{\n",
    "\t\t\t\"Title\": \"El hu\\u00e9sped del sevillano\",\n",
    "\t\t\t\"Year\": \"1970\",\n",
    "\t\t\t\"Genres\": \"Comedy\",\n",
    "\t\t\t\"Minutes\": \"86\"\n",
    "\t\t},\n",
    "\t\t{\n",
    "\t\t\t\"Title\": \"Kate & Leopold\",\n",
    "\t\t\t\"Year\": \"2001\",\n",
    "\t\t\t\"Genres\": \"Comedy,Fantasy,Romance\",\n",
    "\t\t\t\"Minutes\": \"118\"\n",
    "\t\t},\n",
    "\t\t{\n",
    "\t\t\t\"Title\": \"30. Januar 1945\",\n",
    "\t\t\t\"Year\": \"1965\",\n",
    "\t\t\t\"Genres\": \"\\\\N\",\n",
    "\t\t\t\"Minutes\": \"146\"\n",
    "\t\t},\n",
    "    ]\n",
    "}"
   ]
  },
  {
   "cell_type": "markdown",
   "metadata": {},
   "source": [
    "2. from the file take the originalTitle column, the startYear, the runtimeMinutes and the genres."
   ]
  },
  {
   "cell_type": "markdown",
   "metadata": {},
   "source": [
    "3. you should take the movie only if:\n",
    "    - the second column ('short') is equal to 'movie'\n",
    "    - the column of start year is different from '\\\\N' and is above 1960"
   ]
  },
  {
   "cell_type": "markdown",
   "metadata": {},
   "source": [
    "To help you achieve this here is some code to show you how to handle this type of file"
   ]
  },
  {
   "cell_type": "code",
   "execution_count": 9,
   "metadata": {},
   "outputs": [],
   "source": [
    "\n"
   ]
  },
  {
   "cell_type": "markdown",
   "metadata": {},
   "source": [
    "This code above will allow you to read the lines from a csv file (which is like an excel file).\n",
    "inside the reader variable you have every line of the @file that looks like lists according to the columns."
   ]
  },
  {
   "cell_type": "code",
   "execution_count": 5,
   "metadata": {},
   "outputs": [
    {
     "name": "stdout",
     "output_type": "stream",
     "text": [
      "{'movies': [{'Title': 'Pesn o geroyakh', 'Year': '1983', 'Genre': 'Documentary', 'Minutes': '50'}, {'Title': 'El huésped del sevillano', 'Year': '1970', 'Genre': 'Comedy', 'Minutes': '86'}, {'Title': 'Kate & Leopold', 'Year': '2001', 'Genre': 'Comedy,Fantasy,Romance', 'Minutes': '118'}, {'Title': 'January 30, 1945', 'Year': '1965', 'Genre': '\\\\N', 'Minutes': '146'}, {'Title': 'Another Time, Another Place', 'Year': '1983', 'Genre': 'Drama', 'Minutes': '118'}, {'Title': 'Habla, mudita', 'Year': '1973', 'Genre': 'Drama', 'Minutes': '88'}, {'Title': 'Viva Chihuahua', 'Year': '1961', 'Genre': 'Comedy,Western', 'Minutes': '80'}, {'Title': 'The Dungeon of Harrow', 'Year': '1962', 'Genre': 'Horror', 'Minutes': '86'}, {'Title': 'Il naufrago del Pacifico', 'Year': '1962', 'Genre': 'Adventure', 'Minutes': '\\\\N'}, {'Title': 'Murder on the Campus', 'Year': '1961', 'Genre': 'Mystery', 'Minutes': '61'}, {'Title': 'La gitana y el charro', 'Year': '1964', 'Genre': 'Comedy,Musical,Romance', 'Minutes': '87'}, {'Title': 'Baldoria nei Caraibi', 'Year': '1961', 'Genre': '\\\\N', 'Minutes': '50'}, {'Title': 'La estatua', 'Year': '1961', 'Genre': '\\\\N', 'Minutes': '\\\\N'}, {'Title': 'Romeo e Giulietta', 'Year': '1964', 'Genre': 'Drama', 'Minutes': '95'}, {'Title': 'Lo que cuesta vivir', 'Year': '1967', 'Genre': '\\\\N', 'Minutes': '92'}, {'Title': 'El reflejo del alma', 'Year': '1962', 'Genre': 'Drama', 'Minutes': '78'}, {'Title': 'El amor empieza en sábado', 'Year': '1961', 'Genre': '\\\\N', 'Minutes': '84'}, {'Title': \"Devil's Partner\", 'Year': '1961', 'Genre': 'Horror', 'Minutes': '73'}, {'Title': 'La extranjera', 'Year': '1965', 'Genre': 'Drama', 'Minutes': '78'}, {'Title': 'Fantasmas en la casa', 'Year': '1961', 'Genre': 'Comedy', 'Minutes': '80'}, {'Title': 'Macskakaland', 'Year': '1968', 'Genre': 'Adventure', 'Minutes': '49'}, {'Title': 'Beautiful and Beloved Mexico', 'Year': '1961', 'Genre': 'Musical', 'Minutes': '90'}, {'Title': 'Santo contra hombres infernales', 'Year': '1961', 'Genre': 'Adventure,Mystery', 'Minutes': '74'}, {'Title': 'Santo contra cerebro del mal', 'Year': '1961', 'Genre': 'Action,Adventure,Sci-Fi', 'Minutes': '70'}, {'Title': 'The Small World of Sammy Lee', 'Year': '1963', 'Genre': 'Drama', 'Minutes': '107'}]}\n"
     ]
    }
   ],
   "source": [
    "import csv\n",
    "\n",
    "f = open('data.tsv', 'r')\n",
    "reader = csv.reader(f, delimiter='\\t')\n",
    "\n",
    "i = 0\n",
    "\n",
    "json_movies = { \"movies\": [] }\n",
    "\n",
    "for row in reader:\n",
    "    if i == 15 or i==0:\n",
    "        # print(row)\n",
    "        pass\n",
    "        \n",
    "    if row[1] == \"movie\" and row[5] != \"\\\\N\" and int(row[5]) > 1960:\n",
    "        if i > 0:\n",
    "            json_movies[\"movies\"].append({\n",
    "                \"Title\": row[2],\n",
    "                \"Year\": row[5],\n",
    "                \"Genre\": row[-1],\n",
    "                \"Minutes\": row[-2]\n",
    "            })\n",
    "        i += 1\n",
    "    if i > 25:\n",
    "        break\n",
    "\n",
    "print( json_movies )\n",
    "f.close()"
   ]
  },
  {
   "cell_type": "markdown",
   "metadata": {},
   "source": [
    "the output of this according to our file would be:"
   ]
  },
  {
   "cell_type": "code",
   "execution_count": null,
   "metadata": {},
   "outputs": [],
   "source": [
    "['tconst', 'titleType', 'primaryTitle', 'originalTitle', 'isAdult', 'startYear', 'endYear', 'runtimeMinutes', 'genres'] # first-line\n",
    "['tt0000001', 'short', 'Carmencita', 'Carmencita', '0', '1894', '\\N', '1', 'Documentary,Short']\n",
    "['tt0000002', 'short', 'Le clown et ses chiens', 'Le clown et ses chiens', '0', '1892', '\\N', '5', 'Animation,Short']\n",
    "(...)"
   ]
  },
  {
   "cell_type": "markdown",
   "metadata": {},
   "source": [
    "so in order to access to the column of titleType I would do something like that : row[1]"
   ]
  },
  {
   "cell_type": "markdown",
   "metadata": {},
   "source": [
    "## Exercise 2"
   ]
  },
  {
   "cell_type": "markdown",
   "metadata": {},
   "source": [
    "1. create a function called compare_words(search, word) that takes two parameters: search and word.\n",
    "\n",
    "\n",
    "2. this function is going to compare the two variables.\n",
    "    - check the length of the variable search\n",
    "    - Then compare the search variable to the word variable from the element 0 to the length of the search variable word[0:4] (4 being the length of the search variable)\n",
    "    - if they are equal then the function sould return True if not then it should return False\n",
    "\n",
    "\n",
    "3. create a function called search_by_name(search_text) that is taking one parameter search_text.\n",
    "    - this function will look over every item of the json file from exercise 1\n",
    "    - we need to compare the title of the movie with the search text (use the function compare_words())\n",
    "    - if the result of that previous function is True then you should add the movie to a list\n",
    "    - the function will return a list of all the matching movies\n",
    "    \n",
    "\n",
    "4. Now create a function called search_by_year(year) that takes one parameter year.\n",
    "    - it should do the same thing as search_by_name() but only looking for the exact year that we got from the parameters\n",
    "    - and then return a list of all the movies made that year\n",
    "    \n",
    "\n",
    "5. Create a new function called show_results(movies):\n",
    "    - this function will print in a nice way the list of movies in the parameter movies\n",
    "\n",
    "\n",
    "6. Create a new function called menu().\n",
    "    - it should print a menu to the user asking him what he wants to do: \n",
    "            - search a movie by name \n",
    "            - by year\n",
    "            - quit the menu\n",
    "    - this function should return the choice of the user\n",
    "\n",
    "\n",
    "7. create a function called main():\n",
    "    - in this function we are going to assemble every element that we built earlier:\n",
    "            - until the choice of the user isn't 'quit the menu' ask him what he wants to do\n",
    "            - according to his choice use either the search by year or search by name function\n",
    "            - show the output using show_results()"
   ]
  },
  {
   "cell_type": "code",
   "execution_count": null,
   "metadata": {},
   "outputs": [],
   "source": [
    "def compare_words(search, word):\n",
    "    for i, letter in enumerate(search):\n",
    "        if letter != word[i]:\n",
    "            return False\n",
    "    return True\n",
    "\n",
    "compare_words('con', 'contagious')\n",
    "\n",
    "\n",
    "def search_by_name_for(search_text):\n",
    "    result = []\n",
    "    for movie in json_movies['movies']:\n",
    "        if compare_words(search_text, movie['Title']):\n",
    "            result.append(movie)\n",
    "    return result\n",
    "\n",
    "def search_by_name(search_text):\n",
    "    return list(filter(\n",
    "        lambda movie: compare_words(search_text, movie['Title']),\n",
    "        json_movies['movies']\n",
    "    ))\n",
    "\n",
    "\n",
    "# print( search_by_name('The') )\n",
    "\n",
    "def search_by_year(search_year):\n",
    "    result = []\n",
    "    for movie in json_movies['movies']:\n",
    "        if search_year == movie['Year']:\n",
    "            result.append(movie)\n",
    "    return result\n",
    "\n",
    "def search_by_year_lambda(search_year):\n",
    "    return list(filter(\n",
    "        lambda movie: search_year == movie['Year'],\n",
    "        json_movies['movies']\n",
    "    ))\n",
    "\n",
    "search_by_year('1961')\n",
    "search_by_year_lambda('1961')\n",
    "\n",
    "\n",
    "def show_results(movies):\n",
    "    for movie in movies:\n",
    "        print('-----------'+movie['Title']+'------------')\n",
    "        if movie['Genre'] != '\\\\N':\n",
    "            print('Genre: '+movie['Genre'])\n",
    "        print('Year: '+movie['Year'])\n",
    "        if movie['Minutes'] != '\\\\N':\n",
    "            print('Runtime: '+movie['Minutes']+' mins')\n",
    "        print()\n",
    "        \n",
    "# show_results( search_by_year('1961') )\n",
    "\n",
    "\n",
    "\n",
    "\n",
    "def menu():\n",
    "    options = [\n",
    "        'Search by name',\n",
    "        'Search by year',\n",
    "        'Quit'\n",
    "    ]\n",
    "    \n",
    "    while True:\n",
    "        print()\n",
    "        for i, option in enumerate(options):\n",
    "            print(str(i+1) + '. '+option)\n",
    "\n",
    "        choice = int(input('What do you want to do? (1 2 or 3)'))\n",
    "\n",
    "        if choice == 1:\n",
    "            name = input('Enter search text: ')\n",
    "            search_results = search_by_name( name )\n",
    "            print()\n",
    "            show_results( search_results )\n",
    "\n",
    "        elif choice == 2:\n",
    "            year = input('Enter search year: ')\n",
    "            search_results = search_by_year( year )\n",
    "            print()\n",
    "            show_results( search_results )\n",
    "        \n",
    "        elif choice == 3:\n",
    "            break\n",
    "    \n",
    "    print( 'Goodbye' )\n",
    "    \n",
    "menu()\n",
    "        \n"
   ]
  },
  {
   "cell_type": "code",
   "execution_count": null,
   "metadata": {},
   "outputs": [],
   "source": []
  }
 ],
 "metadata": {
  "kernelspec": {
   "display_name": "Python 3",
   "language": "python",
   "name": "python3"
  },
  "language_info": {
   "codemirror_mode": {
    "name": "ipython",
    "version": 3
   },
   "file_extension": ".py",
   "mimetype": "text/x-python",
   "name": "python",
   "nbconvert_exporter": "python",
   "pygments_lexer": "ipython3",
   "version": "3.6.7"
  }
 },
 "nbformat": 4,
 "nbformat_minor": 2
}
