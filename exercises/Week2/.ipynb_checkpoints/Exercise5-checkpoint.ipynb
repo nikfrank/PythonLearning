{
 "cells": [
  {
   "cell_type": "markdown",
   "metadata": {},
   "source": [
    "## Exercise 1"
   ]
  },
  {
   "cell_type": "code",
   "execution_count": 1,
   "metadata": {},
   "outputs": [
    {
     "data": {
      "text/plain": [
       "3"
      ]
     },
     "execution_count": 1,
     "metadata": {},
     "output_type": "execute_result"
    }
   ],
   "source": [
    "3"
   ]
  },
  {
   "cell_type": "raw",
   "metadata": {},
   "source": [
    "Create a list of 10 names. \n",
    "Go over each name and append to a new list every name that has either a \"P\" or a \"V\".\n"
   ]
  },
  {
   "cell_type": "markdown",
   "metadata": {},
   "source": [
    "## Exercise 2 : Rock Paper scissors"
   ]
  },
  {
   "cell_type": "raw",
   "metadata": {},
   "source": [
    "1 : first create a list like this : ['rock', 'paper', 'scissors']"
   ]
  },
  {
   "cell_type": "raw",
   "metadata": {},
   "source": [
    "2: then ask a user 1 to pick a number between 0,1,2 which match the ids in the list "
   ]
  },
  {
   "cell_type": "raw",
   "metadata": {},
   "source": [
    "3 : ask the other user to pick a number between 0,1,2"
   ]
  },
  {
   "cell_type": "raw",
   "metadata": {},
   "source": [
    "4 : according to the numbers they pick, tell who won: 0 is rock, 1 is paper 2 is scissors\n",
    "        The rock beats the scissors, the papier the rock , and the scissors the paper.\n",
    "    print which user won"
   ]
  },
  {
   "cell_type": "markdown",
   "metadata": {},
   "source": [
    "## Exercise 3"
   ]
  },
  {
   "cell_type": "raw",
   "metadata": {},
   "source": [
    "ask the user to enter a username and a password "
   ]
  },
  {
   "cell_type": "raw",
   "metadata": {},
   "source": [
    "now check the password and the username: Ask the user to enter them, while the user makes a mistake tell him to enter them again"
   ]
  },
  {
   "cell_type": "code",
   "execution_count": null,
   "metadata": {},
   "outputs": [],
   "source": []
  }
 ],
 "metadata": {
  "kernelspec": {
   "display_name": "Python 3",
   "language": "python",
   "name": "python3"
  },
  "language_info": {
   "codemirror_mode": {
    "name": "ipython",
    "version": 3
   },
   "file_extension": ".py",
   "mimetype": "text/x-python",
   "name": "python",
   "nbconvert_exporter": "python",
   "pygments_lexer": "ipython3",
   "version": "3.6.7"
  }
 },
 "nbformat": 4,
 "nbformat_minor": 2
}
