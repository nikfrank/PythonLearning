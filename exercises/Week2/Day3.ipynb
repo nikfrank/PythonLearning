{
 "cells": [
  {
   "cell_type": "markdown",
   "metadata": {},
   "source": [
    "## Exercise 1"
   ]
  },
  {
   "cell_type": "markdown",
   "metadata": {},
   "source": [
    "1. create a JSON file looking like that"
   ]
  },
  {
   "cell_type": "code",
   "execution_count": null,
   "metadata": {},
   "outputs": [],
   "source": [
    "{\"users\":[\n",
    "    {\n",
    "        \"username\": \"David\",\n",
    "        \"password\": \"12345\",\n",
    "        \"email\": \"david@super.com\",\n",
    "        \"message_received\":[],\n",
    "        \"message_sent\": []\n",
    "    },\n",
    "    {\n",
    "        \"username\": \"Mark\",\n",
    "        \"password\": \"23412\",\n",
    "        \"email\": \"mark@super.com\",\n",
    "        \"message_received\":[],\n",
    "        \"message_sent\": []\n",
    "    },\n",
    "    {\n",
    "        \"username\": \"Jacob\",\n",
    "        \"password\": \"23821\",\n",
    "        \"email\": \"jacob@super.com\",\n",
    "        \"message_received\":[],\n",
    "        \"message_sent\": []\n",
    "    },\n",
    "    {\n",
    "        \"username\": \"Joseph\",\n",
    "        \"password\": \"62797\",\n",
    "        \"email\": \"joseph@super.com\",\n",
    "        \"message_received\":[],\n",
    "        \"message_sent\": []\n",
    "    }\n",
    "]\n",
    "}"
   ]
  },
  {
   "cell_type": "markdown",
   "metadata": {},
   "source": [
    "### Part 1"
   ]
  },
  {
   "cell_type": "markdown",
   "metadata": {},
   "source": [
    "1. create a function called log_in:\n",
    "    - this function is going to look for every user in the 'database' (the json file)\n",
    "    - it will do the same thing as the first part of exercise 6 of day2\n",
    "        1. ask the user to give his credentials (username +password). \n",
    "        2. Find him in the list and check if both of the username and the password are correct.\n",
    "        3. if the password is not correct tell him to enter it again (give him 3 trials).\n",
    "    - If the user is found then return it\n",
    "    - if the username is not right, call a function called create_new_user()\n",
    "    \n",
    "2. the function create_new_user will ask the user to enter his credentials and create an account.\n",
    "    - after the account is created append it to the network\n",
    "        - this is what a account looks like : \n",
    "            {\n",
    "            \"username\": \"Joseph\",\n",
    "            \"password\": \"62797\",\n",
    "            \"email\": \"joseph@super.com\",\n",
    "            \"message_received\":[],\n",
    "            \"message_sent\": []\n",
    "            }\n",
    "    - this function should return the user that was just created"
   ]
  },
  {
   "cell_type": "markdown",
   "metadata": {},
   "source": [
    "### Part 2"
   ]
  },
  {
   "cell_type": "markdown",
   "metadata": {},
   "source": [
    "1. create a function main that is going to do that:\n",
    "    1. if the function log_in return a user then you should ask the \n",
    "    1. Ask the connected user if he wants to read his messages or send one.\n",
    "    2. if he want's to read them show all the content of his 'message_reveived'.\n",
    "    3. if he wants to send a message first ask him to who.\n",
    "    4. then ask him what he wants to write\n",
    "    5. then complete the dictionary of a message ('from' is the connected user, 'to' is the one he wants to send it to)\n",
    "    6. finally append this message to the 'message_sent' of the connected user and to the message received of the receiver.\n",
    "    \n",
    "2. create a function called save to json\n",
    "    - this function will save the network list to the json file\n",
    "    - you should call this function as soon as you make change in the network list(for exemple when we created a new user)\n",
    "    \n",
    "3. "
   ]
  },
  {
   "cell_type": "markdown",
   "metadata": {},
   "source": [
    "for question 5 (the bonus question) you should write the new user inside the json file"
   ]
  },
  {
   "cell_type": "markdown",
   "metadata": {},
   "source": [
    "#### For Part 2 you should write every change inside the json file"
   ]
  },
  {
   "cell_type": "markdown",
   "metadata": {},
   "source": [
    "## Exercise 2"
   ]
  },
  {
   "cell_type": "markdown",
   "metadata": {},
   "source": [
    "### Part 1"
   ]
  },
  {
   "cell_type": "markdown",
   "metadata": {},
   "source": [
    "1. We are trying to recreate the rolling of dice.\n",
    "2. Your code should keep throwing 2 dice until they both land on the same number.\n",
    "3. It should keep throwing 2 dice (using your throw_dice function) until they both land on the same number (until we reach doubles). For example: (1, 2), (3, 1), (5,5) → then stop throwing, because doubles were reached.\n",
    "4. We also want to keep track of the number of throws we had to do to get a double."
   ]
  },
  {
   "cell_type": "markdown",
   "metadata": {},
   "source": [
    "### Part 2"
   ]
  },
  {
   "cell_type": "markdown",
   "metadata": {},
   "source": [
    "1. Ask the user how many times does he want to throw dice.\n",
    "2. Create a variable dictionary called keep_track. It should have three keys: number_of_throw, number_of_double, average_double\n",
    "3. When we get to a double we want to keep throwing dice and add +1 to the number_of_doubles in our dictionary.\n",
    "4. At the end calculate the average of double. (number_of_double/number_of_throw)\n",
    "5. Show the results to the user. The output would show something like this:\n",
    "       - Total throws: 8\n",
    "       - Average doubles: 2.67."
   ]
  },
  {
   "cell_type": "markdown",
   "metadata": {},
   "source": [
    "### Part 3"
   ]
  },
  {
   "cell_type": "markdown",
   "metadata": {},
   "source": [
    "1. Save each 'keep_track' dictionary to a JSON file. It should look like that:"
   ]
  },
  {
   "cell_type": "code",
   "execution_count": null,
   "metadata": {},
   "outputs": [],
   "source": [
    "{\n",
    "    'data':[\n",
    "        {\n",
    "            'number_of_throw':12,\n",
    "            'number_of_double': 2,\n",
    "            'average_double':0.16666\n",
    "        },\n",
    "        {\n",
    "            'number_of_throw':12,\n",
    "            'number_of_double': 2,\n",
    "            'average_double':0.16666\n",
    "        },\n",
    "    ]\n",
    "}"
   ]
  },
  {
   "cell_type": "markdown",
   "metadata": {},
   "source": [
    "### Part 4"
   ]
  },
  {
   "cell_type": "markdown",
   "metadata": {},
   "source": [
    "1. Create a new python file\n",
    "2. it should read the data from the previous JSON file\n",
    "3. Calculate the average of double for all the throws (total of double/total of throws)"
   ]
  },
  {
   "cell_type": "code",
   "execution_count": null,
   "metadata": {},
   "outputs": [],
   "source": []
  },
  {
   "cell_type": "code",
   "execution_count": null,
   "metadata": {},
   "outputs": [],
   "source": []
  }
 ],
 "metadata": {
  "kernelspec": {
   "display_name": "Python 3",
   "language": "python",
   "name": "python3"
  },
  "language_info": {
   "codemirror_mode": {
    "name": "ipython",
    "version": 3
   },
   "file_extension": ".py",
   "mimetype": "text/x-python",
   "name": "python",
   "nbconvert_exporter": "python",
   "pygments_lexer": "ipython3",
   "version": "3.7.1"
  }
 },
 "nbformat": 4,
 "nbformat_minor": 2
}
