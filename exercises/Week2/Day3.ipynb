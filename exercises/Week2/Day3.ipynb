{
 "cells": [
  {
   "cell_type": "markdown",
   "metadata": {},
   "source": [
    "## Exercise 1"
   ]
  },
  {
   "cell_type": "markdown",
   "metadata": {},
   "source": [
    "1. create a JSON file looking like that"
   ]
  },
  {
   "cell_type": "code",
   "execution_count": 6,
   "metadata": {},
   "outputs": [],
   "source": [
    "users = ({\"users\":[\n",
    "    {\n",
    "        \"username\": \"David\",\n",
    "        \"password\": \"12345\",\n",
    "        \"email\": \"david@super.com\",\n",
    "        \"message_received\":[],\n",
    "        \"message_sent\": []\n",
    "    },\n",
    "    {\n",
    "        \"username\": \"Mark\",\n",
    "        \"password\": \"23412\",\n",
    "        \"email\": \"mark@super.com\",\n",
    "        \"message_received\":[],\n",
    "        \"message_sent\": []\n",
    "    },\n",
    "    {\n",
    "        \"username\": \"Jacob\",\n",
    "        \"password\": \"23821\",\n",
    "        \"email\": \"jacob@super.com\",\n",
    "        \"message_received\":[],\n",
    "        \"message_sent\": []\n",
    "    },\n",
    "    {\n",
    "        \"username\": \"Joseph\",\n",
    "        \"password\": \"62797\",\n",
    "        \"email\": \"joseph@super.com\",\n",
    "        \"message_received\":[],\n",
    "        \"message_sent\": []\n",
    "    }\n",
    "]\n",
    "})['users']"
   ]
  },
  {
   "cell_type": "markdown",
   "metadata": {},
   "source": [
    "### Part 1"
   ]
  },
  {
   "cell_type": "markdown",
   "metadata": {},
   "source": [
    "1. create a function called log_in:\n",
    "    - this function is going to look for every user in the 'database' (the json file)\n",
    "    - it will do the same thing as the first part of exercise 6 of day2\n",
    "        1. ask the user to give his credentials (username +password). \n",
    "        2. Find him in the list and check if both of the username and the password are correct.\n",
    "        3. if the password is not correct tell him to enter it again (give him 3 trials).\n",
    "    - If the user is found then return it\n",
    "    - if the username is not right, call a function called create_new_user()\n",
    "    \n",
    "2. the function create_new_user will ask the user to enter his credentials and create an account.\n",
    "    - after the account is created append it to the network\n",
    "        - this is what a account looks like : \n",
    "            {\n",
    "            \"username\": \"Joseph\",\n",
    "            \"password\": \"62797\",\n",
    "            \"email\": \"joseph@super.com\",\n",
    "            \"message_received\":[],\n",
    "            \"message_sent\": []\n",
    "            }\n",
    "    - this function should return the user that was just created"
   ]
  },
  {
   "cell_type": "code",
   "execution_count": 32,
   "metadata": {},
   "outputs": [
    {
     "name": "stdout",
     "output_type": "stream",
     "text": [
      "Username: nik\n",
      "USER NOT FOUND\n",
      "None\n",
      "[1, 10, 4]\n"
     ]
    }
   ],
   "source": [
    "def log_in1():\n",
    "    username = input('Username: ')\n",
    "    password = input('Password: ')\n",
    "    \n",
    "    for user in users:\n",
    "        if user['username'] == username:\n",
    "            for i in range(3):\n",
    "                if user['password'] == password:\n",
    "                    print('Success!')\n",
    "                    return user\n",
    "                else:\n",
    "                    if i < 2:\n",
    "                        print('Password failed please try again (you have '+str(2-i)+' chance(s) left)')\n",
    "                        password = input('Password: ')\n",
    "                    else:\n",
    "                        print('YOU HAVE FAILED MEEEEEEEEEEEE')\n",
    "                    \n",
    "                    \n",
    "def find_user(username):\n",
    "    user_list = list(filter(lambda u: u[\"username\"] == username, users))\n",
    "    if len(user_list) == 0:\n",
    "        return None;\n",
    "    else:\n",
    "        return user_list[0]\n",
    "    \n",
    "\n",
    "def log_in():\n",
    "    username = input('Username: ')\n",
    "    \n",
    "    user = find_user(username)\n",
    "    if user != None:\n",
    "        for i in range(3):\n",
    "            password = input('Password: ')\n",
    "            if password == user['password']:\n",
    "                return user\n",
    "            else:\n",
    "                print('password didn\\'t match')\n",
    "    else:\n",
    "        print('USER NOT FOUND')\n",
    "\n",
    "user_logged_in = log_in()\n",
    "print(user_logged_in)\n",
    "\n",
    "\n",
    "def filter_numbers1(nums, min_value):\n",
    "    result = []\n",
    "    for num in nums:\n",
    "        if num > min_value:\n",
    "            result.append(num)\n",
    "    return result\n",
    "\n",
    "def filter_numbers(nums, min_value):\n",
    "    return list(filter(lambda num: num > min_value, nums))\n",
    "\n",
    "filtered_numbers = filter_numbers([1, -1, 10, 4, 0], 0)\n",
    "print(filtered_numbers)"
   ]
  },
  {
   "cell_type": "code",
   "execution_count": null,
   "metadata": {},
   "outputs": [],
   "source": []
  },
  {
   "cell_type": "markdown",
   "metadata": {},
   "source": [
    "### Part 2"
   ]
  },
  {
   "cell_type": "markdown",
   "metadata": {},
   "source": [
    "1. create a function main that is going to do that:\n",
    "    1. if the function log_in returned a user then you should ask this user the following menu:\n",
    "        1. Ask the connected user if he wants to read his messages or send one.\n",
    "        2. if he wants to read them show all the content of his 'message_reveived'.\n",
    "        3. if he wants to send a message first ask him to whom.\n",
    "        4. then ask him what he wants to write\n",
    "        5. then complete the dictionary of a message ('from' is the connected user, 'to' is the one he wants to send it to)\n",
    "        6. finally append this message to the 'message_sent' of the connected user and to the message received of the receiver.\n",
    "    \n",
    "2. create a function called save to json\n",
    "    - this function will save the network list to the json file\n",
    "    - you should call this function as soon as you make change in the network list(for exemple when we created a new user)"
   ]
  },
  {
   "cell_type": "code",
   "execution_count": 40,
   "metadata": {},
   "outputs": [
    {
     "name": "stdout",
     "output_type": "stream",
     "text": [
      "Username: Mark\n",
      "Password: 23412\n",
      "Do you want to send or read messages? (send/read):read\n",
      "[{'from': 'Jacob', 'to': 'Mark', 'content': 'Mark you owe me money! gimme my money!'}, {'from': 'Jacob', 'to': 'Mark', 'content': 'WHERE MY MONEY?'}]\n",
      "{'n': 1001}\n"
     ]
    }
   ],
   "source": [
    "import json\n",
    "\n",
    "def save_to_json():\n",
    "    with open('messages.json', 'w') as file:\n",
    "        file.write(json.dumps(users))\n",
    "    return\n",
    "\n",
    "def send_menu(from_user):\n",
    "    to_username = input('to whom do you wish to message?: ')\n",
    "    to_user = find_user(to_username)\n",
    "    if to_user == None:\n",
    "        print('USER NOT FOUND')\n",
    "        return\n",
    "    \n",
    "    content = input('type message here: ')\n",
    "    message = {\n",
    "        \"from\": from_user['username'],\n",
    "        \"to\": to_username,\n",
    "        \"content\": content\n",
    "    }\n",
    "    \n",
    "    from_user['message_sent'].append(message)\n",
    "    to_user['message_received'].append(message)\n",
    "    save_to_json()\n",
    "    return\n",
    "\n",
    "    \n",
    "def read_messages(user):\n",
    "    messages = user['message_received']\n",
    "    print(messages)\n",
    "    return\n",
    "\n",
    "\n",
    "def main():\n",
    "    user = log_in()\n",
    "    if user == None:\n",
    "        print('401')\n",
    "        return\n",
    "    \n",
    "    action = input('Do you want to send or read messages? (send/read):')\n",
    "    if action == 'send':\n",
    "        send_menu(user)\n",
    "    elif action == 'read':\n",
    "        read_messages(user)\n",
    "        pass\n",
    "    else:\n",
    "        print(action+' is not an option. NO SOUP FOR YOU. COME BACK ONE YEAR')\n",
    "        return\n",
    "    \n",
    "main()\n",
    "\n",
    "# pass by reference proof\n",
    "def addUntil(D):\n",
    "    D['n'] = D['n']+1\n",
    "    return D['n']*(D['n']-1)/2\n",
    "\n",
    "value = { 'n': 1000 }\n",
    "addUntil(value)\n",
    "print( value )"
   ]
  },
  {
   "cell_type": "markdown",
   "metadata": {},
   "source": [
    "## Exercise 2"
   ]
  },
  {
   "cell_type": "markdown",
   "metadata": {},
   "source": [
    "### Part 1"
   ]
  },
  {
   "cell_type": "markdown",
   "metadata": {},
   "source": [
    "1. We are trying to recreate the rolling of dice.\n",
    "2. Create a function that should keep throwing 2 dice until they both land on the same number.\n",
    "3. We also want to keep track of the number of throws we needed to get a double.\n",
    "\n",
    "(Hint: use random)"
   ]
  },
  {
   "cell_type": "code",
   "execution_count": 65,
   "metadata": {},
   "outputs": [
    {
     "name": "stdout",
     "output_type": "stream",
     "text": [
      "[5, 6, 4, 2, 2, 5, 2] [6, 1, 2, 3, 1, 3, 2]\n",
      "7\n"
     ]
    }
   ],
   "source": [
    "import random\n",
    "# in js:: const roll = ()=> Math.floor(Math.random()*6) + 1\n",
    "\n",
    "def roll():\n",
    "    return random.randint(1, 6)\n",
    "\n",
    "def roll_doubles():\n",
    "    first_rolls = []\n",
    "    second_rolls = []\n",
    "    \n",
    "    first_roll = roll()\n",
    "    second_roll = roll()\n",
    "    \n",
    "    first_rolls.append(first_roll)\n",
    "    second_rolls.append(second_roll)\n",
    "    count = 1\n",
    "    \n",
    "    while first_roll != second_roll:\n",
    "        count = count + 1\n",
    "        first_roll = roll()\n",
    "        second_roll = roll()\n",
    "        \n",
    "        first_rolls.append(first_roll)\n",
    "        second_rolls.append(second_roll)\n",
    "        \n",
    "    print(first_rolls, second_rolls)\n",
    "    return count\n",
    "    \n",
    "print( roll_doubles() )"
   ]
  },
  {
   "cell_type": "markdown",
   "metadata": {},
   "source": [
    "### Part 2"
   ]
  },
  {
   "cell_type": "markdown",
   "metadata": {},
   "source": [
    "1. Ask the user how many times he wants to throw dice.\n",
    "2. Create a variable dictionary to keep track of throws. It should have two keys: number_of_throws, number_of_doubles\n",
    "3. When we get to a double we want to keep throwing dice and add +1 to the number_of_doubles in our dictionary\n",
    "4. At the end calculate the average throws per double. (number_of_throws/number_of_doubles)\n",
    "5. Show the results to the user. The output would show something like this:\n",
    "       - Total throws: 8\n",
    "       - Average throws per double: 2.67."
   ]
  },
  {
   "cell_type": "code",
   "execution_count": 75,
   "metadata": {},
   "outputs": [
    {
     "name": "stdout",
     "output_type": "stream",
     "text": [
      "how many throws?: 1000000\n",
      "Total throws: 1000000\n",
      "Total doubles: 166722\n",
      "Average doubling rate: 0.166722\n"
     ]
    }
   ],
   "source": [
    "number_of_throws_to_do = int(input('how many throws?: '))\n",
    "\n",
    "history = {\n",
    "    \"number_of_throws\": 0,\n",
    "    \"number_of_doubles\": 0\n",
    "}\n",
    "\n",
    "for i in range(number_of_throws_to_do):\n",
    "    \n",
    "    first_roll = roll()\n",
    "    second_roll = roll()\n",
    "    \n",
    "    if first_roll == second_roll:\n",
    "        history['number_of_doubles'] += 1\n",
    "    \n",
    "    history['number_of_throws'] += 1\n",
    "    \n",
    "print('Total throws: '+str(history['number_of_throws']))\n",
    "print('Total doubles: '+str(history['number_of_doubles']))\n",
    "print('Average doubling rate: '+\n",
    "      str( history['number_of_doubles'] / history['number_of_throws'] ))"
   ]
  },
  {
   "cell_type": "code",
   "execution_count": 78,
   "metadata": {},
   "outputs": [
    {
     "name": "stdout",
     "output_type": "stream",
     "text": [
      "15\n"
     ]
    }
   ],
   "source": [
    "val = 10\n",
    "val += 5\n",
    "print( val )\n",
    "\n",
    "val += 1"
   ]
  },
  {
   "cell_type": "markdown",
   "metadata": {},
   "source": [
    "### Part 3"
   ]
  },
  {
   "cell_type": "markdown",
   "metadata": {},
   "source": [
    "1. Save each 'keep_track' dictionary to a JSON file. It should look like that:"
   ]
  },
  {
   "cell_type": "code",
   "execution_count": null,
   "metadata": {},
   "outputs": [],
   "source": [
    "{\n",
    "    'data':[\n",
    "        {\n",
    "            'number_of_throw':12,\n",
    "            'number_of_double': 2,\n",
    "            'average_double':0.16666\n",
    "        },\n",
    "        {\n",
    "            'number_of_throw':12,\n",
    "            'number_of_double': 2,\n",
    "            'average_double':0.16666\n",
    "        },\n",
    "    ]\n",
    "}"
   ]
  },
  {
   "cell_type": "markdown",
   "metadata": {},
   "source": [
    "### Part 4"
   ]
  },
  {
   "cell_type": "markdown",
   "metadata": {},
   "source": [
    "1. Create a new python file\n",
    "2. it should read the data from the previous JSON file\n",
    "3. Calculate the average of double for all the throws (total of double/total of throws)"
   ]
  },
  {
   "cell_type": "code",
   "execution_count": null,
   "metadata": {},
   "outputs": [],
   "source": []
  },
  {
   "cell_type": "code",
   "execution_count": null,
   "metadata": {},
   "outputs": [],
   "source": []
  }
 ],
 "metadata": {
  "kernelspec": {
   "display_name": "Python 3",
   "language": "python",
   "name": "python3"
  },
  "language_info": {
   "codemirror_mode": {
    "name": "ipython",
    "version": 3
   },
   "file_extension": ".py",
   "mimetype": "text/x-python",
   "name": "python",
   "nbconvert_exporter": "python",
   "pygments_lexer": "ipython3",
   "version": "3.6.7"
  }
 },
 "nbformat": 4,
 "nbformat_minor": 2
}
