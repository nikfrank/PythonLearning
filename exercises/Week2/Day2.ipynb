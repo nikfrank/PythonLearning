{
 "cells": [
  {
   "cell_type": "markdown",
   "metadata": {},
   "source": [
    "## Exercise 1"
   ]
  },
  {
   "cell_type": "markdown",
   "metadata": {},
   "source": [
    "1. create a dictionary which contains 5 keys: first_name, last_name, age, number, address. For the values just fill an empty string."
   ]
  },
  {
   "cell_type": "markdown",
   "metadata": {},
   "source": [
    "2. ask the user to complete those values"
   ]
  },
  {
   "cell_type": "markdown",
   "metadata": {},
   "source": [
    "3. according to the user age tell wether he is over 21 or not."
   ]
  },
  {
   "cell_type": "markdown",
   "metadata": {},
   "source": [
    "## Exercise 2"
   ]
  },
  {
   "cell_type": "markdown",
   "metadata": {},
   "source": [
    "1: Capitals\n",
    "Make a dictionary containing three countries and their capitals.\n",
    "One key-value pair might be 'France': 'Paris'.\n",
    "- Use a loop to print a sentence about each country, such as The capital of France is Paris\n",
    "- Use a loop to print the name of each capital included in the dictionary.\n",
    "- Use a loop to print the name of each country included in the dictionary"
   ]
  },
  {
   "cell_type": "markdown",
   "metadata": {},
   "source": [
    "## Exercise 3"
   ]
  },
  {
   "cell_type": "markdown",
   "metadata": {},
   "source": [
    "In this exercise we're going to ask to the user to enter a name and give him the age of the person it's related to.\n",
    "for example :{'Mark':32, '\n",
    "Nick':27}"
   ]
  },
  {
   "cell_type": "markdown",
   "metadata": {},
   "source": [
    "But if the name does not exist we are going to ask to the user to create a new key-value pair and add it to the dictionary."
   ]
  },
  {
   "cell_type": "markdown",
   "metadata": {},
   "source": [
    "Bonus : let the user search for a name or an age and show every people with that age "
   ]
  },
  {
   "cell_type": "markdown",
   "metadata": {},
   "source": [
    "## Exercise 4"
   ]
  },
  {
   "cell_type": "markdown",
   "metadata": {},
   "source": [
    "1) Create a variable called my_groceries with the values banana, orange, apple, pear\n",
    "2) Copy these two dictionaries:"
   ]
  },
  {
   "cell_type": "code",
   "execution_count": 3,
   "metadata": {},
   "outputs": [],
   "source": [
    "stock = { \"banana\": 6, \"pear \": 2, \"apple\": 0, \"orange\": 32 } \n",
    "prices = { \"banana\": 4, \"pear \": 2.8, \"apple\": 2, \"orange\": 1.5 }"
   ]
  },
  {
   "cell_type": "markdown",
   "metadata": {},
   "source": [
    "3. the variable my_groceries is a dictionary all the values are initialized at 0\n",
    "4. ask to the user how many items does he want from each keys \n",
    "5. add this value to the dictonary\n",
    "6. after the user is done, calculate how much does he have to pay\n",
    "7. BONUS:\n",
    "    - 1: when the user picks for instance 3 bananas then remove 3 from the banana stock\n",
    "    - 2: if the user asks a number of items that is higher than the one in stock tell him to take less and show him the number in stock"
   ]
  },
  {
   "cell_type": "markdown",
   "metadata": {},
   "source": [
    "## Exercise 5"
   ]
  },
  {
   "cell_type": "markdown",
   "metadata": {},
   "source": [
    "1. make the user write a sentence."
   ]
  },
  {
   "cell_type": "markdown",
   "metadata": {},
   "source": [
    "2. using dictionary create a key for each letter, there is in his sentence"
   ]
  },
  {
   "cell_type": "markdown",
   "metadata": {},
   "source": [
    "3. the value of those keys should be the number of time the letter appeared in the sentence"
   ]
  },
  {
   "cell_type": "markdown",
   "metadata": {},
   "source": [
    "## Exercise 6 - mini (hard) project"
   ]
  },
  {
   "cell_type": "markdown",
   "metadata": {},
   "source": [
    "1. create a list of dictionaries that looks like this"
   ]
  },
  {
   "cell_type": "code",
   "execution_count": 6,
   "metadata": {},
   "outputs": [],
   "source": [
    "network = [\n",
    "    {\n",
    "        'username': 'David',\n",
    "        'password': '12345',\n",
    "        'email': 'david@super.com',\n",
    "        'message_received':[],\n",
    "        'message_sent': []\n",
    "    },\n",
    "    {\n",
    "        'username': 'Mark',\n",
    "        'password': '23412',\n",
    "        'email': 'mark@super.com',\n",
    "        'message_received':[],\n",
    "        'message_sent': []\n",
    "    },\n",
    "    {\n",
    "        'username': 'Jacob',\n",
    "        'password': '23821',\n",
    "        'email': 'jacob@super.com',\n",
    "        'message_received':[],\n",
    "        'message_sent': []\n",
    "    },\n",
    "    {\n",
    "        'username': 'Joseph',\n",
    "        'password': '62797',\n",
    "        'email': 'joseph@super.com',\n",
    "        'message_received':[],\n",
    "        'message_sent': []\n",
    "    }\n",
    "]"
   ]
  },
  {
   "cell_type": "markdown",
   "metadata": {},
   "source": [
    "### Part 1"
   ]
  },
  {
   "cell_type": "markdown",
   "metadata": {},
   "source": [
    "1. ask the user to give his credentials (username +password). \n",
    "2. Find him in the list and check if both of the username and the password are correct.\n",
    "3. if the password is not correct tell him to enter it again (give him 3 trials).\n",
    "4. Then create a variable called connected user which value is going to be the user's dictionary.\n",
    "5. BONUS : if the username is not right, ask the user if he want's to create an account. And create it."
   ]
  },
  {
   "cell_type": "markdown",
   "metadata": {},
   "source": [
    "### Part 2"
   ]
  },
  {
   "cell_type": "markdown",
   "metadata": {},
   "source": [
    "A message looks like that"
   ]
  },
  {
   "cell_type": "code",
   "execution_count": 5,
   "metadata": {},
   "outputs": [
    {
     "data": {
      "text/plain": [
       "{'From': '', 'To': '', 'content': ''}"
      ]
     },
     "execution_count": 5,
     "metadata": {},
     "output_type": "execute_result"
    }
   ],
   "source": [
    "{\n",
    "    'From': '',\n",
    "    'To': '',\n",
    "    'content':''\n",
    "}"
   ]
  },
  {
   "cell_type": "markdown",
   "metadata": {},
   "source": [
    "1. Now ask the connected user if he wants to read his messages or send one.\n",
    "2. if he want's to read them show all the content of his 'message_reveived'.\n",
    "3. if he wants to send a message first ask him to who.\n",
    "4. then ask him what he wants to write\n",
    "5. then complete the dictionary of a message ('from' is the connected user, 'to' is the one he wants to send it to)\n",
    "6. finally append this message to the 'message_sent' of the connected user and to the message received of the receiver."
   ]
  },
  {
   "cell_type": "code",
   "execution_count": 8,
   "metadata": {},
   "outputs": [],
   "source": []
  },
  {
   "cell_type": "code",
   "execution_count": null,
   "metadata": {},
   "outputs": [],
   "source": []
  }
 ],
 "metadata": {
  "kernelspec": {
   "display_name": "Python 3",
   "language": "python",
   "name": "python3"
  },
  "language_info": {
   "codemirror_mode": {
    "name": "ipython",
    "version": 3
   },
   "file_extension": ".py",
   "mimetype": "text/x-python",
   "name": "python",
   "nbconvert_exporter": "python",
   "pygments_lexer": "ipython3",
   "version": "3.7.1"
  }
 },
 "nbformat": 4,
 "nbformat_minor": 2
}
