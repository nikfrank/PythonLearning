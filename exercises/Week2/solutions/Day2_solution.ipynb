{
 "cells": [
  {
   "cell_type": "markdown",
   "metadata": {},
   "source": [
    "## Exercise 1"
   ]
  },
  {
   "cell_type": "code",
   "execution_count": 1,
   "metadata": {},
   "outputs": [
    {
     "name": "stdout",
     "output_type": "stream",
     "text": [
      "enter first_nametheo\n",
      "enter last_namenataf\n",
      "enter age22\n",
      "enter number058\n",
      "enter address33 rue pierre\n",
      "{'first_name': 'theo', 'last_name': 'nataf', 'age': '22', 'number': '058', 'address': '33 rue pierre'}\n"
     ]
    }
   ],
   "source": [
    "infos = {\n",
    "    'first_name': '',\n",
    "    'last_name':'',\n",
    "    'age':'',\n",
    "    'number':'',\n",
    "    'address': ''\n",
    "}\n",
    "\n",
    "for key in infos.keys():\n",
    "    value = input('enter {}'.format(key))\n",
    "    infos[key] = value\n",
    "    \n",
    "if int(infos['age']) > 21:\n",
    "    print(\"you're over 21\")\n",
    "\n",
    "print(infos)"
   ]
  },
  {
   "cell_type": "markdown",
   "metadata": {},
   "source": [
    "#### A bit more improved"
   ]
  },
  {
   "cell_type": "code",
   "execution_count": 2,
   "metadata": {},
   "outputs": [
    {
     "name": "stdout",
     "output_type": "stream",
     "text": [
      "enter first_nametheo\n",
      "enter last_namenataf\n",
      "enter age22\n",
      "enter number0897208\n",
      "enter addresshjiqsfhl\n",
      "you're over 21\n",
      "{'first_name': 'theo', 'last_name': 'nataf', 'age': 22, 'number': 897208, 'address': 'hjiqsfhl'}\n"
     ]
    }
   ],
   "source": [
    "infos = {\n",
    "    'first_name': '',\n",
    "    'last_name':'',\n",
    "    'age':0,\n",
    "    'number':0,\n",
    "    'address': ''\n",
    "}\n",
    "\n",
    "for key in infos.keys():\n",
    "    value = input('enter {}'.format(key))\n",
    "    if value.isdigit():\n",
    "        value = int(value)\n",
    "    infos[key] = value\n",
    "    \n",
    "if int(infos['age']) > 21:\n",
    "    print(\"you're over 21\")\n",
    "\n",
    "print(infos)"
   ]
  },
  {
   "cell_type": "markdown",
   "metadata": {},
   "source": [
    "## Exercise 2"
   ]
  },
  {
   "cell_type": "code",
   "execution_count": 5,
   "metadata": {},
   "outputs": [
    {
     "name": "stdout",
     "output_type": "stream",
     "text": [
      "France is the capital of Paris\n",
      "USA is the capital of Washington D.C\n",
      "Israel is the capital of Jerusalem\n",
      "Spain is the capital of Madrid\n",
      "Paris\n",
      "Washington D.C\n",
      "Jerusalem\n",
      "Madrid\n",
      "France\n",
      "USA\n",
      "Israel\n",
      "Spain\n"
     ]
    }
   ],
   "source": [
    "capitals = {\n",
    "    'France': 'Paris',\n",
    "    'USA': 'Washington D.C',\n",
    "    'Israel': 'Jerusalem',\n",
    "    'Spain': 'Madrid'\n",
    "}\n",
    "\n",
    "for key, value in capitals.items():\n",
    "    print('{} is the capital of {}'.format(key, value))\n",
    "    \n",
    "for value in capitals.values():\n",
    "    print(value)\n",
    "    \n",
    "for key in capitals.keys():\n",
    "    print(key)"
   ]
  },
  {
   "cell_type": "markdown",
   "metadata": {},
   "source": [
    "## Exercise 3"
   ]
  },
  {
   "cell_type": "code",
   "execution_count": 9,
   "metadata": {},
   "outputs": [
    {
     "name": "stdout",
     "output_type": "stream",
     "text": [
      "- Enter a name or write q to quitq\n",
      "{'Mark': 32, 'Nick': 45, 'Jacob': 22, 'Marcel': 67}\n"
     ]
    }
   ],
   "source": [
    "people = {\n",
    "    'Mark':32,\n",
    "    'Nick': 45,\n",
    "    'Jacob': 22,\n",
    "    'Marcel': 67\n",
    "}\n",
    "\n",
    "while True:\n",
    "    someone = input('- Enter a name or write q to quit')\n",
    "    if someone in people.keys():\n",
    "        print('{} is {}'.format(someone, people[someone]))\n",
    "    elif someone == 'q':\n",
    "        break\n",
    "    else:\n",
    "        print('that person does not exist in our Database \\nwe are going to create him\\n')\n",
    "        age = int(input('what is his age ?\\n'))\n",
    "        people[someone] = age\n",
    "        print('{} was added'.format(someone))\n",
    "    \n",
    "print(people)"
   ]
  },
  {
   "cell_type": "markdown",
   "metadata": {},
   "source": [
    "#### With the bonus"
   ]
  },
  {
   "cell_type": "code",
   "execution_count": 15,
   "metadata": {},
   "outputs": [
    {
     "name": "stdout",
     "output_type": "stream",
     "text": [
      "- Enter a name, an age or enter Q to quitQ\n",
      "{'Mark': 32, 'Nick': 45, 'Jacob': 22, 'Marcel': 67}\n"
     ]
    }
   ],
   "source": [
    "people = {\n",
    "    'Mark':32,\n",
    "    'Nick': 45,\n",
    "    'Jacob': 22,\n",
    "    'Marcel': 67\n",
    "}\n",
    "\n",
    "while True:\n",
    "    someone = input('- Enter a name, an age or enter Q to quit').capitalize()\n",
    "    if someone.isdigit():\n",
    "        for key, value in people.items():\n",
    "            if value == int(someone):\n",
    "                print('{} is {}'.format(key, value))\n",
    "    else:\n",
    "        if someone in people.keys():\n",
    "            print('{} is {}'.format(someone, people[someone]))\n",
    "        elif someone == 'Q':\n",
    "            break\n",
    "        else:\n",
    "            print('that person does not exist in our Database \\nwe are going to create him\\n')\n",
    "            age = int(input('what is his age ?'))\n",
    "            people[someone] = age\n",
    "            print('{} was added'.format(someone))\n",
    "    \n",
    "print(people)"
   ]
  },
  {
   "cell_type": "markdown",
   "metadata": {},
   "source": [
    "## Exercise 3"
   ]
  },
  {
   "cell_type": "code",
   "execution_count": null,
   "metadata": {},
   "outputs": [],
   "source": [
    "groceries = { \"banana\": 0, \"pear \": 0, \"apple\": 0, \"orange\": 0 }\n",
    "\n",
    "stock = { \"banana\": 6, \"pear \": 2, \"apple\": 0, \"orange\": 32 } \n",
    "prices = { \"banana\": 4, \"pear \": 2.8, \"apple\": 2, \"orange\": 1.5 }\n",
    "\n",
    "for key, value i\n"
   ]
  }
 ],
 "metadata": {
  "kernelspec": {
   "display_name": "Python 3",
   "language": "python",
   "name": "python3"
  },
  "language_info": {
   "codemirror_mode": {
    "name": "ipython",
    "version": 3
   },
   "file_extension": ".py",
   "mimetype": "text/x-python",
   "name": "python",
   "nbconvert_exporter": "python",
   "pygments_lexer": "ipython3",
   "version": "3.7.1"
  }
 },
 "nbformat": 4,
 "nbformat_minor": 2
}
