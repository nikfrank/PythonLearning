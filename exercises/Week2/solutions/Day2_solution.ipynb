{
 "cells": [
  {
   "cell_type": "markdown",
   "metadata": {},
   "source": [
    "## Exercise 1"
   ]
  },
  {
   "cell_type": "code",
   "execution_count": 1,
   "metadata": {
    "collapsed": true
   },
   "outputs": [
    {
     "name": "stdout",
     "output_type": "stream",
     "text": [
      "enter first_nametheo\n",
      "enter last_namenataf\n",
      "enter age22\n",
      "enter number058\n",
      "enter address33 rue pierre\n",
      "{'first_name': 'theo', 'last_name': 'nataf', 'age': '22', 'number': '058', 'address': '33 rue pierre'}\n"
     ]
    }
   ],
   "source": [
    "infos = {\n",
    "    'first_name': '',\n",
    "    'last_name':'',\n",
    "    'age':'',\n",
    "    'number':'',\n",
    "    'address': ''\n",
    "}\n",
    "\n",
    "for key in infos.keys():\n",
    "    value = input('enter {}'.format(key))\n",
    "    infos[key] = value\n",
    "    \n",
    "if int(infos['age']) > 21:\n",
    "    print(\"you're over 21\")\n",
    "\n",
    "print(infos)"
   ]
  },
  {
   "cell_type": "markdown",
   "metadata": {},
   "source": [
    "#### A bit more improved"
   ]
  },
  {
   "cell_type": "code",
   "execution_count": 2,
   "metadata": {
    "collapsed": true
   },
   "outputs": [
    {
     "name": "stdout",
     "output_type": "stream",
     "text": [
      "enter first_nametheo\n",
      "enter last_namenataf\n",
      "enter age22\n",
      "enter number0897208\n",
      "enter addresshjiqsfhl\n",
      "you're over 21\n",
      "{'first_name': 'theo', 'last_name': 'nataf', 'age': 22, 'number': 897208, 'address': 'hjiqsfhl'}\n"
     ]
    }
   ],
   "source": [
    "infos = {\n",
    "    'first_name': '',\n",
    "    'last_name':'',\n",
    "    'age':0,\n",
    "    'number':0,\n",
    "    'address': ''\n",
    "}\n",
    "\n",
    "for key in infos.keys():\n",
    "    value = input('enter {}'.format(key))\n",
    "    if value.isdigit():\n",
    "        value = int(value)\n",
    "    infos[key] = value\n",
    "    \n",
    "if int(infos['age']) > 21:\n",
    "    print(\"you're over 21\")\n",
    "\n",
    "print(infos)"
   ]
  },
  {
   "cell_type": "markdown",
   "metadata": {},
   "source": [
    "## Exercise 2"
   ]
  },
  {
   "cell_type": "code",
   "execution_count": 5,
   "metadata": {
    "collapsed": true
   },
   "outputs": [
    {
     "name": "stdout",
     "output_type": "stream",
     "text": [
      "France is the capital of Paris\n",
      "USA is the capital of Washington D.C\n",
      "Israel is the capital of Jerusalem\n",
      "Spain is the capital of Madrid\n",
      "Paris\n",
      "Washington D.C\n",
      "Jerusalem\n",
      "Madrid\n",
      "France\n",
      "USA\n",
      "Israel\n",
      "Spain\n"
     ]
    }
   ],
   "source": [
    "capitals = {\n",
    "    'France': 'Paris',\n",
    "    'USA': 'Washington D.C',\n",
    "    'Israel': 'Jerusalem',\n",
    "    'Spain': 'Madrid'\n",
    "}\n",
    "\n",
    "for key, value in capitals.items():\n",
    "    print('{} is the capital of {}'.format(key, value))\n",
    "    \n",
    "for value in capitals.values():\n",
    "    print(value)\n",
    "    \n",
    "for key in capitals.keys():\n",
    "    print(key)"
   ]
  },
  {
   "cell_type": "markdown",
   "metadata": {},
   "source": [
    "## Exercise 3"
   ]
  },
  {
   "cell_type": "code",
   "execution_count": 9,
   "metadata": {
    "collapsed": true
   },
   "outputs": [
    {
     "name": "stdout",
     "output_type": "stream",
     "text": [
      "- Enter a name or write q to quitq\n",
      "{'Mark': 32, 'Nick': 45, 'Jacob': 22, 'Marcel': 67}\n"
     ]
    }
   ],
   "source": [
    "people = {\n",
    "    'Mark':32,\n",
    "    'Nick': 45,\n",
    "    'Jacob': 22,\n",
    "    'Marcel': 67\n",
    "}\n",
    "\n",
    "while True:\n",
    "    someone = input('- Enter a name or write q to quit')\n",
    "    if someone in people.keys():\n",
    "        print('{} is {}'.format(someone, people[someone]))\n",
    "    elif someone == 'q':\n",
    "        break\n",
    "    else:\n",
    "        print('that person does not exist in our Database \\nwe are going to create him\\n')\n",
    "        age = int(input('what is his age ?\\n'))\n",
    "        people[someone] = age\n",
    "        print('{} was added'.format(someone))\n",
    "    \n",
    "print(people)"
   ]
  },
  {
   "cell_type": "markdown",
   "metadata": {},
   "source": [
    "#### With the bonus"
   ]
  },
  {
   "cell_type": "code",
   "execution_count": 15,
   "metadata": {
    "collapsed": true
   },
   "outputs": [
    {
     "name": "stdout",
     "output_type": "stream",
     "text": [
      "- Enter a name, an age or enter Q to quitQ\n",
      "{'Mark': 32, 'Nick': 45, 'Jacob': 22, 'Marcel': 67}\n"
     ]
    }
   ],
   "source": [
    "people = {\n",
    "    'Mark':32,\n",
    "    'Nick': 45,\n",
    "    'Jacob': 22,\n",
    "    'Marcel': 67\n",
    "}\n",
    "\n",
    "while True:\n",
    "    someone = input('- Enter a name, an age or enter Q to quit').capitalize()\n",
    "    if someone.isdigit():\n",
    "        for key, value in people.items():\n",
    "            if value == int(someone):\n",
    "                print('{} is {}'.format(key, value))\n",
    "    else:\n",
    "        if someone in people.keys():\n",
    "            print('{} is {}'.format(someone, people[someone]))\n",
    "        elif someone == 'Q':\n",
    "            break\n",
    "        else:\n",
    "            print('that person does not exist in our Database \\nwe are going to create him\\n')\n",
    "            age = int(input('what is his age ?'))\n",
    "            people[someone] = age\n",
    "            print('{} was added'.format(someone))\n",
    "    \n",
    "print(people)"
   ]
  },
  {
   "cell_type": "markdown",
   "metadata": {},
   "source": [
    "## Exercise 4"
   ]
  },
  {
   "cell_type": "code",
   "execution_count": 18,
   "metadata": {
    "collapsed": true
   },
   "outputs": [
    {
     "name": "stdout",
     "output_type": "stream",
     "text": [
      "how many bananas do you want ?1\n",
      "how many pears do you want ?1\n",
      "how many apples do you want ?1\n",
      "how many oranges do you want ?1\n",
      "you have to pay 10.3$\n"
     ]
    }
   ],
   "source": [
    "groceries = { \"banana\": 0, \"pear\": 0, \"apple\": 0, \"orange\": 0 }\n",
    "\n",
    "stock = { \"banana\": 6, \"pear\": 2, \"apple\": 0, \"orange\": 32 } \n",
    "prices = { \"banana\": 4, \"pear\": 2.8, \"apple\": 2, \"orange\": 1.5 }\n",
    "\n",
    "total = 0\n",
    "for key in groceries.keys():\n",
    "    groceries[key] = int(input('how many {}s do you want ?'.format(key)))\n",
    "    total += prices[key]*groceries[key]\n",
    "                         \n",
    "print('you have to pay {}$'.format(total))\n"
   ]
  },
  {
   "cell_type": "markdown",
   "metadata": {},
   "source": [
    "BONUS"
   ]
  },
  {
   "cell_type": "code",
   "execution_count": 5,
   "metadata": {
    "collapsed": true
   },
   "outputs": [
    {
     "name": "stdout",
     "output_type": "stream",
     "text": [
      "how many bananas do you want ?2\n",
      "how many pears do you want ?2\n",
      "how many apples do you want ?2\n",
      "we only have 0 apple in stock you have to choose less\n",
      "how many apples do you want ?2\n",
      "we only have 0 apple in stock you have to choose less\n",
      "how many apples do you want ?0\n",
      "how many oranges do you want ?2\n",
      "you have to pay 16.6$\n"
     ]
    }
   ],
   "source": [
    "groceries = { \"banana\": 0, \"pear\": 0, \"apple\": 0, \"orange\": 0 }\n",
    "\n",
    "stock = { \"banana\": 6, \"pear\": 2, \"apple\": 0, \"orange\": 32 } \n",
    "prices = { \"banana\": 4, \"pear\": 2.8, \"apple\": 2, \"orange\": 1.5 }\n",
    "\n",
    "total = 0\n",
    "for key in groceries.keys():\n",
    "    groceries[key] = int(input('how many {}s do you want ?'.format(key)))\n",
    "    while groceries[key] > stock[key]:\n",
    "        print('we only have {} {} in stock you have to choose less'.format(stock[key], key))\n",
    "        groceries[key] = int(input('how many {}s do you want ?'.format(key)))\n",
    "    stock[key] -= groceries[key]\n",
    "    total += prices[key]*groceries[key]\n",
    "                         \n",
    "print('you have to pay {}$'.format(total))\n"
   ]
  },
  {
   "cell_type": "markdown",
   "metadata": {},
   "source": [
    "## Exercise 5"
   ]
  },
  {
   "cell_type": "code",
   "execution_count": 21,
   "metadata": {
    "collapsed": true
   },
   "outputs": [
    {
     "name": "stdout",
     "output_type": "stream",
     "text": [
      "what is your sentence ? jksdqfj sdfjksmd fjdsmkf jisodfjiqosdjf jiosdqgji dsgjioqzjgiomvsdnlnvuera\n",
      "{'j': 11, 'k': 3, 's': 9, 'd': 9, 'q': 4, 'f': 6, ' ': 5, 'm': 3, 'i': 6, 'o': 5, 'g': 3, 'z': 1, 'v': 2, 'n': 2, 'l': 1, 'u': 1, 'e': 1, 'r': 1, 'a': 1}\n"
     ]
    }
   ],
   "source": [
    "sentence = input('what is your sentence ? ')\n",
    "letters = {}\n",
    "\n",
    "for letter in sentence:\n",
    "    if letter in letters.keys():\n",
    "        letters[letter] += 1\n",
    "    else:\n",
    "        letters[letter] = 1\n",
    "\n",
    "print(letters)\n",
    "    "
   ]
  },
  {
   "cell_type": "markdown",
   "metadata": {},
   "source": [
    "## Exercise 6"
   ]
  },
  {
   "cell_type": "markdown",
   "metadata": {},
   "source": [
    "### Part 1"
   ]
  },
  {
   "cell_type": "code",
   "execution_count": 25,
   "metadata": {
    "collapsed": true
   },
   "outputs": [
    {
     "name": "stdout",
     "output_type": "stream",
     "text": [
      "Username ?David\n",
      "Password ?12345\n",
      "{'username': 'David', 'password': '12345', 'email': 'david@super.com', 'message_received': [], 'message_sent': []}\n"
     ]
    }
   ],
   "source": [
    "network = [\n",
    "    {\n",
    "        'username': 'David',\n",
    "        'password': '12345',\n",
    "        'email': 'david@super.com',\n",
    "        'message_received':[],\n",
    "        'message_sent': []\n",
    "    },\n",
    "    {\n",
    "        'username': 'Mark',\n",
    "        'password': '23412',\n",
    "        'email': 'mark@super.com',\n",
    "        'message_received':[],\n",
    "        'message_sent': []\n",
    "    },\n",
    "    {\n",
    "        'username': 'Jacob',\n",
    "        'password': '23821',\n",
    "        'email': 'jacob@super.com',\n",
    "        'message_received':[],\n",
    "        'message_sent': []\n",
    "    },\n",
    "    {\n",
    "        'username': 'Joseph',\n",
    "        'password': '62797',\n",
    "        'email': 'joseph@super.com',\n",
    "        'message_received':[],\n",
    "        'message_sent': []\n",
    "    }\n",
    "]\n",
    "\n",
    "username = input('Username ?')\n",
    "password = input('Password ?')\n",
    "connected_user = {}\n",
    "found_user = False\n",
    "\n",
    "for user in network:\n",
    "    if user['username'] == username:\n",
    "        found_user = True\n",
    "        for i in range(3):\n",
    "            if user['password'] == password:\n",
    "                connected_user = user\n",
    "                break\n",
    "            else:\n",
    "                password = input('Password Incorrect \\nEnter Password Again\\n')\n",
    "\n",
    "if not found_user:\n",
    "    print(\"we didn't find any user matching those credentials\")\n",
    "    \n",
    "print(connected_user)  "
   ]
  },
  {
   "cell_type": "markdown",
   "metadata": {},
   "source": [
    "#### Bonus"
   ]
  },
  {
   "cell_type": "code",
   "execution_count": 27,
   "metadata": {
    "collapsed": true
   },
   "outputs": [
    {
     "name": "stdout",
     "output_type": "stream",
     "text": [
      "Username ?theo\n",
      "Password ?12345\n",
      "we didn't find any user matching those credentials do you want to register with those credentials\n",
      "        username: theo, password: 12345?\n",
      "            (1) yes\n",
      "            (2) no1\n",
      "what is your email address ?tdh.nataf@gmail.com\n",
      "{'username': 'theo', 'password': '12345', 'email': 'tdh.nataf@gmail.com', 'message_received': [], 'message_sent': []}\n"
     ]
    }
   ],
   "source": [
    "network = [\n",
    "    {\n",
    "        'username': 'David',\n",
    "        'password': '12345',\n",
    "        'email': 'david@super.com',\n",
    "        'message_received':[],\n",
    "        'message_sent': []\n",
    "    },\n",
    "    {\n",
    "        'username': 'Mark',\n",
    "        'password': '23412',\n",
    "        'email': 'mark@super.com',\n",
    "        'message_received':[],\n",
    "        'message_sent': []\n",
    "    },\n",
    "    {\n",
    "        'username': 'Jacob',\n",
    "        'password': '23821',\n",
    "        'email': 'jacob@super.com',\n",
    "        'message_received':[],\n",
    "        'message_sent': []\n",
    "    },\n",
    "    {\n",
    "        'username': 'Joseph',\n",
    "        'password': '62797',\n",
    "        'email': 'joseph@super.com',\n",
    "        'message_received':[],\n",
    "        'message_sent': []\n",
    "    }\n",
    "]\n",
    "\n",
    "username = input('Username ?')\n",
    "password = input('Password ?')\n",
    "connected_user = {}\n",
    "found_user = False\n",
    "\n",
    "for user in network:\n",
    "    if user['username'] == username:\n",
    "        found_user = True\n",
    "        for i in range(3):\n",
    "            if user['password'] == password:\n",
    "                connected_user = user\n",
    "                break\n",
    "            else:\n",
    "                password = input('Password Incorrect \\nEnter Password Again\\n')\n",
    "\n",
    "if not found_user:\n",
    "    answer = int(input(\"\"\"we didn't find any user matching those credentials do you want to register with those credentials\n",
    "        username: {}, password: {}?\n",
    "            (1) yes\n",
    "            (2) no\"\"\".format(username, password)))\n",
    "    if answer == 1:\n",
    "        email = input('what is your email address ?')\n",
    "        new_user = {\n",
    "            'username': username,\n",
    "            'password': password,\n",
    "            'email': email,\n",
    "            'message_received':[],\n",
    "            'message_sent': []\n",
    "        }\n",
    "        network.append(new_user)\n",
    "        connected_user = new_user\n",
    "    \n",
    "    \n",
    "print(connected_user)  "
   ]
  },
  {
   "cell_type": "markdown",
   "metadata": {},
   "source": [
    "### Part 2"
   ]
  },
  {
   "cell_type": "code",
   "execution_count": 4,
   "metadata": {},
   "outputs": [
    {
     "name": "stdout",
     "output_type": "stream",
     "text": [
      "Username ?theo\n",
      "Password ?12345\n",
      "we didn't find any user matching those credentials do you want to register with those credentials\n",
      "        username: theo, password: 12345?\n",
      "            (1) yes\n",
      "            (2) no1\n",
      "what is your email address ?theo@super.com\n",
      "{'username': 'theo', 'password': '12345', 'email': 'theo@super.com', 'message_received': [], 'message_sent': []}\n",
      "what do you want to do ?\n",
      "\t(1)Send a message\n",
      "\t(2)Read my messages1\n",
      "who do you want to send it to ?David\n",
      "what is the content of your messagehello david\n",
      "[{'username': 'David', 'password': '12345', 'email': 'david@super.com', 'message_received': [{'From': 'theo@super.com', 'To': 'david@super.com', 'content': 'hello david'}], 'message_sent': []}, {'username': 'Mark', 'password': '23412', 'email': 'mark@super.com', 'message_received': [], 'message_sent': []}, {'username': 'Jacob', 'password': '23821', 'email': 'jacob@super.com', 'message_received': [], 'message_sent': []}, {'username': 'Joseph', 'password': '62797', 'email': 'joseph@super.com', 'message_received': [], 'message_sent': []}, {'username': 'theo', 'password': '12345', 'email': 'theo@super.com', 'message_received': [], 'message_sent': [{'From': 'theo@super.com', 'To': 'david@super.com', 'content': 'hello david'}]}]\n"
     ]
    }
   ],
   "source": [
    "network = [\n",
    "    {\n",
    "        'username': 'David',\n",
    "        'password': '12345',\n",
    "        'email': 'david@super.com',\n",
    "        'message_received':[],\n",
    "        'message_sent': []\n",
    "    },\n",
    "    {\n",
    "        'username': 'Mark',\n",
    "        'password': '23412',\n",
    "        'email': 'mark@super.com',\n",
    "        'message_received':[],\n",
    "        'message_sent': []\n",
    "    },\n",
    "    {\n",
    "        'username': 'Jacob',\n",
    "        'password': '23821',\n",
    "        'email': 'jacob@super.com',\n",
    "        'message_received':[],\n",
    "        'message_sent': []\n",
    "    },\n",
    "    {\n",
    "        'username': 'Joseph',\n",
    "        'password': '62797',\n",
    "        'email': 'joseph@super.com',\n",
    "        'message_received':[],\n",
    "        'message_sent': []\n",
    "    }\n",
    "]\n",
    "\n",
    "username = input('Username ?')\n",
    "password = input('Password ?')\n",
    "connected_user = {}\n",
    "found_user = False\n",
    "\n",
    "for user in network:\n",
    "    if user['username'] == username:\n",
    "        found_user = True\n",
    "        for i in range(3):\n",
    "            if user['password'] == password:\n",
    "                connected_user = user\n",
    "                break\n",
    "            else:\n",
    "                password = input('Password Incorrect \\nEnter Password Again\\n')\n",
    "\n",
    "if not found_user:\n",
    "    answer = int(input(\"\"\"we didn't find any user matching those credentials do you want to register with those credentials\n",
    "        username: {}, password: {}?\n",
    "            (1) yes\n",
    "            (2) no\"\"\".format(username, password)))\n",
    "    if answer == 1:\n",
    "        email = input('what is your email address ?')\n",
    "        new_user = {\n",
    "            'username': username,\n",
    "            'password': password,\n",
    "            'email': email,\n",
    "            'message_received':[],\n",
    "            'message_sent': []\n",
    "        }\n",
    "        network.append(new_user)\n",
    "        connected_user = new_user\n",
    "    \n",
    "    \n",
    "print(connected_user)\n",
    "\n",
    "if connected_user:\n",
    "    choice = input('what do you want to do ?\\n\\t(1)Send a message\\n\\t(2)Read my messages')\n",
    "    if choice == '1':\n",
    "        send_to = input('who do you want to send it to ?')\n",
    "        for user in network:\n",
    "            if user['email']==send_to or user['username']==send_to:\n",
    "                content = input('what is the content of your message')\n",
    "                message = {\n",
    "                    'From': connected_user['email'],\n",
    "                    'To': user['email'],\n",
    "                    'content':content\n",
    "                    }\n",
    "                user['message_received'].append(message)\n",
    "                connected_user['message_sent'].append(message)\n",
    "                break\n",
    "    if choice == '2':\n",
    "        for message in connected_user['message_received']:\n",
    "            print(message)\n",
    "    \n",
    "print(network)\n",
    "    \n",
    "    \n",
    "    \n",
    "    \n",
    "    \n",
    "    \n",
    "    "
   ]
  },
  {
   "cell_type": "code",
   "execution_count": null,
   "metadata": {
    "collapsed": true
   },
   "outputs": [],
   "source": []
  }
 ],
 "metadata": {
  "kernelspec": {
   "display_name": "Python 3",
   "language": "python",
   "name": "python3"
  },
  "language_info": {
   "codemirror_mode": {
    "name": "ipython",
    "version": 3
   },
   "file_extension": ".py",
   "mimetype": "text/x-python",
   "name": "python",
   "nbconvert_exporter": "python",
   "pygments_lexer": "ipython3",
   "version": "3.7.1"
  }
 },
 "nbformat": 4,
 "nbformat_minor": 2
}
