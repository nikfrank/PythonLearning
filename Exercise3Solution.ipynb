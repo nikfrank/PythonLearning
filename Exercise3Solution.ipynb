{
 "cells": [
  {
   "cell_type": "code",
   "execution_count": 27,
   "metadata": {},
   "outputs": [
    {
     "name": "stdout",
     "output_type": "stream",
     "text": [
      "*\n",
      "**\n",
      "***\n",
      "****\n",
      "*****\n",
      "******\n",
      "******\n",
      "*****\n",
      "****\n",
      "***\n",
      "**\n",
      "*\n"
     ]
    }
   ],
   "source": [
    "x = ''\n",
    "number = 7\n",
    "\n",
    "for i in range(6):\n",
    "    x = x + '*'\n",
    "    print(x)\n",
    "\n",
    "for y in range(6):\n",
    "    number -= 1\n",
    "    print(x[0:number])\n",
    "    \n",
    "\n",
    "    "
   ]
  },
  {
   "cell_type": "code",
   "execution_count": 28,
   "metadata": {},
   "outputs": [
    {
     "ename": "SyntaxError",
     "evalue": "invalid syntax (<ipython-input-28-4c6f9f195e53>, line 1)",
     "output_type": "error",
     "traceback": [
      "\u001b[0;36m  File \u001b[0;32m\"<ipython-input-28-4c6f9f195e53>\"\u001b[0;36m, line \u001b[0;32m1\u001b[0m\n\u001b[0;31m    operators = [+,-]\u001b[0m\n\u001b[0m                  ^\u001b[0m\n\u001b[0;31mSyntaxError\u001b[0m\u001b[0;31m:\u001b[0m invalid syntax\n"
     ]
    }
   ],
   "source": [
    "operators = ['+','-']\n",
    "\n"
   ]
  },
  {
   "cell_type": "markdown",
   "metadata": {},
   "source": [
    "## Exercise 1"
   ]
  },
  {
   "cell_type": "code",
   "execution_count": 17,
   "metadata": {},
   "outputs": [
    {
     "name": "stdout",
     "output_type": "stream",
     "text": [
      "first number ?23\n",
      "operator ?+\n",
      "second number ?23\n",
      "23 + 23 = 46\n"
     ]
    }
   ],
   "source": [
    "number1 = int(input('first number ?'))\n",
    "operator = input('operator ?')\n",
    "number2 = int(input('second number ?'))\n",
    "\n",
    "if operator == '*':\n",
    "    print('{} x {} = {}'.format(number1, number2, number1*number2))\n",
    "elif operator == '/':\n",
    "    print('{} / {} = {}'.format(number1, number2, number1/number2))\n",
    "elif operator == '%':\n",
    "    print('{} % {} = {}'.format(number1, number2, number1%number2))\n",
    "elif operator == '-':\n",
    "    print('{} - {} = {}'.format(number1, number2, number1-number2))\n",
    "elif operator == '+':\n",
    "    print('{} + {} = {}'.format(number1, number2, number1+number2))\n",
    "else:\n",
    "    print('please enter a valid operator')"
   ]
  },
  {
   "cell_type": "markdown",
   "metadata": {},
   "source": [
    "## Exercise 1א"
   ]
  },
  {
   "cell_type": "code",
   "execution_count": null,
   "metadata": {},
   "outputs": [],
   "source": [
    "print('Your password must contain at least 1 upper case and one number and 6 char')\n",
    "password = input('Password ?')\n",
    "found_digit = False\n",
    "found_upper = False\n",
    "\n",
    "if len(password) != 6:\n",
    "    print('Your password must contain at least 1 upper case and one number and 6 char')\n",
    "    password = input('Password ?')\n",
    "\n",
    "for letter in password:\n",
    "    if letter.isdigit():\n",
    "        found_digit=True\n",
    "    elif letter.upper() == letter:\n",
    "        found_upper = True\n",
    "\n",
    "if found_digit and found_upper:\n",
    "    checking = input('checking your password')\n",
    "    if checking == password:\n",
    "        print('great password saved')\n",
    "else:\n",
    "    print('your password is not matching the conditions')\n",
    "\n",
    "    "
   ]
  },
  {
   "cell_type": "markdown",
   "metadata": {},
   "source": [
    "## Exercise 2"
   ]
  },
  {
   "cell_type": "code",
   "execution_count": 35,
   "metadata": {},
   "outputs": [
    {
     "name": "stdout",
     "output_type": "stream",
     "text": [
      "enter a number2456\n",
      "2456 is a multiple of 2\n",
      "2456 is a multiple of 4\n",
      "2456 is a multiple of 8\n"
     ]
    }
   ],
   "source": [
    "number = int(input('enter a number'))\n",
    "is_prime = True\n",
    "\n",
    "for multiple in range(2, number+1):\n",
    "    if number%multiple == 0 and number != multiple:\n",
    "        is_prime = False\n",
    "        print('{} is a multiple of {}'.format(number, multiple))\n",
    "    \n",
    "if is_prime == True:\n",
    "    print('it may be a prime number')"
   ]
  },
  {
   "cell_type": "markdown",
   "metadata": {},
   "source": [
    "## Exercise 3"
   ]
  },
  {
   "cell_type": "code",
   "execution_count": 32,
   "metadata": {
    "scrolled": true
   },
   "outputs": [
    {
     "name": "stdout",
     "output_type": "stream",
     "text": [
      "add a player for Team 1a\n",
      "add a player for Team 2a\n",
      "add a player for Team 1a\n",
      "add a player for Team 2a\n",
      "add a player for Team 1a\n",
      "add a player for Team 2a\n",
      "add a player for Team 1a\n",
      "add a player for Team 2a\n",
      "add a player for Team 1a\n",
      "add a player for Team 2a\n",
      "it's a tie\n"
     ]
    }
   ],
   "source": [
    "team1 = []\n",
    "team2 = []\n",
    "team1_winners = []\n",
    "team2_winners = []\n",
    "\n",
    "for i in range(5):\n",
    "    player_team1 = input('add player {} for Team 1'.format(i))\n",
    "    player_team2 = input('add player {} player for Team 2'.format(i))\n",
    "    team1.append(player_team1)\n",
    "    team2.append(player_team2)\n",
    "    \n",
    "for y in range(len(team1)):\n",
    "    if len(team1[y]) > len(team2[y]):\n",
    "        team1_winners.append(team1[y])\n",
    "    elif len(team1[y]) < len(team2[y]):\n",
    "        team2_winners.append(team2[y])\n",
    "        \n",
    "if len(team1_winners)>len(team2_winners):\n",
    "    print('team1 won')\n",
    "elif len(team1_winners)==len(team2_winners):\n",
    "    print(\"it's a tie\")\n",
    "else: \n",
    "    print('team2 won')"
   ]
  },
  {
   "cell_type": "code",
   "execution_count": 42,
   "metadata": {},
   "outputs": [
    {
     "name": "stdout",
     "output_type": "stream",
     "text": [
      "what is your equation ?4242/3533\n",
      "4242 / 3533 = 1.2006793093688084\n"
     ]
    }
   ],
   "source": [
    "equation = input('what is your equation ?')\n",
    "number2 = ''\n",
    "# 34*65\n",
    "for element in equation:\n",
    "    if element.isdigit() == True:\n",
    "        number2 += element\n",
    "    else:\n",
    "        operator = element\n",
    "        number1 = number2\n",
    "        number2 = ''\n",
    "\n",
    "number1 = int(number1)\n",
    "number2 = int(number2)\n",
    "\n",
    "if operator == '*':\n",
    "    print('{} x {} = {}'.format(number1, number2, number1*number2))\n",
    "elif operator == '/':\n",
    "    print('{} / {} = {}'.format(number1, number2, number1/number2))\n",
    "elif operator == '%':\n",
    "    print('{} % {} = {}'.format(number1, number2, number1%number2))\n",
    "elif operator == '-':\n",
    "    print('{} - {} = {}'.format(number1, number2, number1-number2))\n",
    "elif operator == '+':\n",
    "    print('{} + {} = {}'.format(number1, number2, number1+number2))\n",
    "else:\n",
    "    print('please enter a valid operator')\n"
   ]
  },
  {
   "cell_type": "code",
   "execution_count": null,
   "metadata": {},
   "outputs": [],
   "source": []
  }
 ],
 "metadata": {
  "kernelspec": {
   "display_name": "Python 3",
   "language": "python",
   "name": "python3"
  },
  "language_info": {
   "codemirror_mode": {
    "name": "ipython",
    "version": 3
   },
   "file_extension": ".py",
   "mimetype": "text/x-python",
   "name": "python",
   "nbconvert_exporter": "python",
   "pygments_lexer": "ipython3",
   "version": "3.7.1"
  }
 },
 "nbformat": 4,
 "nbformat_minor": 2
}
